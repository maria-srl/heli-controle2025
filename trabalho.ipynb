{
 "cells": [
  {
   "cell_type": "markdown",
   "metadata": {},
   "source": [
    "# Helicóptero de Bancada para disciplina de Controle e Aplicações"
   ]
  },
  {
   "cell_type": "markdown",
   "metadata": {},
   "source": [
    "## Preparação"
   ]
  },
  {
   "cell_type": "code",
   "execution_count": 622,
   "metadata": {},
   "outputs": [],
   "source": [
    "# Bibliotecas\n",
    "import numpy as np\n",
    "import sympy as sp\n",
    "import matplotlib.pyplot as plt\n",
    "import ipywidgets as widgets\n",
    "from ipywidgets import interactive\n",
    "from scipy.optimize import minimize\n",
    "from IPython.display import Latex\n",
    "from tbcontrol.symbolic import routh\n",
    "from scipy.integrate import solve_ivp\n",
    "import pandas as pd\n",
    "\n",
    "import control as ct\n",
    "s = ct.tf('s')\n",
    "\n",
    "from seaborn import color_palette\n",
    "colors = color_palette()"
   ]
  },
  {
   "cell_type": "code",
   "execution_count": 623,
   "metadata": {},
   "outputs": [],
   "source": [
    "# Definição dos símbolos\n",
    "m_c, m_m, a, l, L, K, g = sp.symbols('m_c m_m a l L K g')\n",
    "epsilon, alpha, theta = sp.symbols('epsilon alpha theta')\n",
    "d_epsilon, d_alpha, d_theta = sp.symbols('d_epsilon d_alpha d_theta')\n",
    "dd_epsilon, dd_alpha, dd_theta = sp.symbols('dd_epsilon dd_alpha dd_theta')\n",
    "V_D, V_E = sp.symbols('V_D V_E')\n",
    "M_P_x, M_P_y, M_P_z = sp.symbols('M_P_x M_P_y M_P_z')\n",
    "rho, C_D, U, S, beta = sp.symbols('rho C_D U S beta')\n",
    "x1, x2, x3, x4, x5, x6 = sp.symbols('x1 x2 x3 x4 x5 x6') \n",
    "u1, u2 = sp.symbols('u1 u2')                              \n",
    "w1, w2, w3 = sp.symbols('w1 w2 w3')                        \n",
    "epsilon_linha, alpha_linha, theta_linha = sp.symbols('epsilon_linha alpha_linha theta_linha')\n",
    "s = sp.symbols('s')\n",
    "\n",
    "I = sp.eye(6)"
   ]
  },
  {
   "cell_type": "code",
   "execution_count": 624,
   "metadata": {},
   "outputs": [],
   "source": [
    "# Parametros\n",
    "params = {\n",
    "    m_c: 1.565,\n",
    "    m_m: 0.355,\n",
    "    l: 0.45,\n",
    "    L: 0.64,\n",
    "    K: 0.5839,\n",
    "    g: 9.81,\n",
    "    a: 0.275,\n",
    "    rho: 1.225,\n",
    "    C_D: 1,\n",
    "    S: 0.00196,\n",
    "    beta: 10*np.pi/180,\n",
    "    U: 5,\n",
    "    #epsilon_linha: 4*np.pi/180,\n",
    "    #alpha_linha: 1*np.pi/180,\n",
    "    theta_linha: 2*np.pi/180\n",
    "}"
   ]
  },
  {
   "cell_type": "markdown",
   "metadata": {},
   "source": [
    "## Modelagem Matemática"
   ]
  },
  {
   "cell_type": "code",
   "execution_count": 625,
   "metadata": {},
   "outputs": [],
   "source": [
    "# Vetores unitários\n",
    "i = sp.Matrix([1, 0, 0])\n",
    "j = sp.Matrix([0, 1, 0])\n",
    "k = sp.Matrix([0, 0, 1])\n",
    "\n",
    "# Matrizes de rotação\n",
    "R_x = sp.Matrix([\n",
    "    [1, 0, 0],\n",
    "    [0, sp.cos(epsilon), -sp.sin(epsilon)],\n",
    "    [0, sp.sin(epsilon), sp.cos(epsilon)]\n",
    "])\n",
    "\n",
    "R_y = sp.Matrix([\n",
    "    [sp.cos(alpha), 0, sp.sin(alpha)],\n",
    "    [0, 1, 0],\n",
    "    [-sp.sin(alpha), 0, sp.cos(alpha)]\n",
    "])\n",
    "\n",
    "R_z = sp.Matrix([\n",
    "    [sp.cos(theta), -sp.sin(theta), 0],\n",
    "    [sp.sin(theta), sp.cos(theta), 0],\n",
    "    [0, 0, 1]\n",
    "])\n",
    "\n",
    "R = R_x * R_y * R_z\n",
    "\n",
    "# Vetores de posição\n",
    "rc = -l * j\n",
    "r = L * j\n",
    "rd = r + a * i\n",
    "re = r - a * i\n",
    "\n",
    "# Momentos de inércia\n",
    "Ixx = m_c*l**2 + 2*m_m*L**2\n",
    "Iyy = 2*m_m*a**2\n",
    "Izz = m_c*l**2 + 2*m_m*(a**2 + L**2)\n",
    "J = sp.diag(Ixx, Iyy, Izz)\n",
    "\n",
    "M_P = M_P_x*i + M_P_y*j + M_P_z*k\n",
    "\n",
    "# Velocidade e aceleração angular\n",
    "omega = d_epsilon*i + d_alpha*j + d_theta*k\n",
    "d_omega = dd_epsilon*i + dd_alpha*j + dd_theta*k\n",
    "\n",
    "# Pesos\n",
    "Pc = R * (m_c * g * k)\n",
    "Pm = R * (m_m * g * k)\n",
    "\n",
    "# Equilíbrio de forças\n",
    "Fc = Pc\n",
    "Fd = Pm + K * V_D * k\n",
    "Fe = Pm + K * V_E * k\n",
    "\n",
    "# Arrasto\n",
    "U_vet = R * (U * (sp.cos(beta) * i + sp.sin(beta) * j))\n",
    "v_rel = U_vet - omega.cross(r)\n",
    "modulo_v_rel2 = v_rel.dot(v_rel)\n",
    "direcao_v_rel = v_rel / sp.sqrt(modulo_v_rel2)\n",
    "Fa = 0.5 * rho * C_D * modulo_v_rel2 * S * direcao_v_rel\n",
    "\n",
    "# Soma dos momentos\n",
    "somatorio_momentos = rc.cross(Fc) + re.cross(Fe) + rd.cross(Fd) + r.cross(Fa) + M_P\n",
    "\n",
    "# Resolução das EDOs\n",
    "eqs = somatorio_momentos - (J * d_omega + omega.cross(J * omega))\n",
    "sol = sp.solve(eqs, (dd_epsilon, dd_alpha, dd_theta), dict=True)[0]\n",
    "\n",
    "d_d_epsilon = sp.simplify(sol[dd_epsilon])\n",
    "d_d_alpha = sp.simplify(sol[dd_alpha])\n",
    "d_d_theta = sp.simplify(sol[dd_theta])"
   ]
  },
  {
   "cell_type": "markdown",
   "metadata": {},
   "source": [
    "### EDOs do sistema"
   ]
  },
  {
   "cell_type": "code",
   "execution_count": 626,
   "metadata": {},
   "outputs": [
    {
     "data": {
      "text/latex": [
       "$\\ddot{\\varepsilon} = \\frac{- 1.0 C_{D} L^{2} S d_{\\epsilon} \\rho \\sqrt{1.0 L^{2} d_{\\epsilon}^{2} + 1.0 L^{2} d_{\\theta}^{2} + 2.0 L U d_{\\epsilon} \\sin{\\left(\\alpha \\right)} \\cos{\\left(\\epsilon \\right)} \\cos{\\left(\\beta + \\theta \\right)} - 2.0 L U d_{\\epsilon} \\sin{\\left(\\epsilon \\right)} \\sin{\\left(\\beta + \\theta \\right)} + 2.0 L U d_{\\theta} \\cos{\\left(\\alpha \\right)} \\cos{\\left(\\beta + \\theta \\right)} + 1.0 U^{2}} - 1.0 C_{D} L S U \\rho \\sqrt{1.0 L^{2} d_{\\epsilon}^{2} + 1.0 L^{2} d_{\\theta}^{2} + 2.0 L U d_{\\epsilon} \\sin{\\left(\\alpha \\right)} \\cos{\\left(\\epsilon \\right)} \\cos{\\left(\\beta + \\theta \\right)} - 2.0 L U d_{\\epsilon} \\sin{\\left(\\epsilon \\right)} \\sin{\\left(\\beta + \\theta \\right)} + 2.0 L U d_{\\theta} \\cos{\\left(\\alpha \\right)} \\cos{\\left(\\beta + \\theta \\right)} + 1.0 U^{2}} \\sin{\\left(\\alpha \\right)} \\cos{\\left(\\epsilon \\right)} \\cos{\\left(\\beta + \\theta \\right)} + 1.0 C_{D} L S U \\rho \\sqrt{1.0 L^{2} d_{\\epsilon}^{2} + 1.0 L^{2} d_{\\theta}^{2} + 2.0 L U d_{\\epsilon} \\sin{\\left(\\alpha \\right)} \\cos{\\left(\\epsilon \\right)} \\cos{\\left(\\beta + \\theta \\right)} - 2.0 L U d_{\\epsilon} \\sin{\\left(\\epsilon \\right)} \\sin{\\left(\\beta + \\theta \\right)} + 2.0 L U d_{\\theta} \\cos{\\left(\\alpha \\right)} \\cos{\\left(\\beta + \\theta \\right)} + 1.0 U^{2}} \\sin{\\left(\\epsilon \\right)} \\sin{\\left(\\beta + \\theta \\right)} + 2.0 K L V_{D} + 2.0 K L V_{E} - 4.0 L^{2} d_{\\alpha} d_{\\theta} m_{m} + 4.0 L g m_{m} \\cos{\\left(\\alpha \\right)} \\cos{\\left(\\epsilon \\right)} + 2.0 M_{P x} - 2.0 d_{\\alpha} d_{\\theta} l^{2} m_{c} - 2.0 g l m_{c} \\cos{\\left(\\alpha \\right)} \\cos{\\left(\\epsilon \\right)}}{4.0 L^{2} m_{m} + 2.0 l^{2} m_{c}}$"
      ],
      "text/plain": [
       "<IPython.core.display.Latex object>"
      ]
     },
     "metadata": {},
     "output_type": "display_data"
    },
    {
     "data": {
      "text/latex": [
       "$\\ddot{\\alpha} = - \\frac{0.5 K V_{D}}{a m_{m}} + \\frac{0.5 K V_{E}}{a m_{m}} + \\frac{0.5 M_{P y}}{a^{2} m_{m}} + 1.0 d_{\\epsilon} d_{\\theta}$"
      ],
      "text/plain": [
       "<IPython.core.display.Latex object>"
      ]
     },
     "metadata": {},
     "output_type": "display_data"
    },
    {
     "data": {
      "text/latex": [
       "$\\ddot{\\theta} = \\frac{- 1.0 C_{D} L^{2} S d_{\\epsilon} \\rho \\sqrt{1.0 L^{2} d_{\\epsilon}^{2} + 1.0 L^{2} d_{\\theta}^{2} + 2.0 L U d_{\\epsilon} \\sin{\\left(\\alpha \\right)} \\cos{\\left(\\epsilon \\right)} \\cos{\\left(\\beta + \\theta \\right)} - 2.0 L U d_{\\epsilon} \\sin{\\left(\\epsilon \\right)} \\sin{\\left(\\beta + \\theta \\right)} + 2.0 L U d_{\\theta} \\cos{\\left(\\alpha \\right)} \\cos{\\left(\\beta + \\theta \\right)} + 1.0 U^{2}} - 1.0 C_{D} L S U \\rho \\sqrt{1.0 L^{2} d_{\\epsilon}^{2} + 1.0 L^{2} d_{\\theta}^{2} + 2.0 L U d_{\\epsilon} \\sin{\\left(\\alpha \\right)} \\cos{\\left(\\epsilon \\right)} \\cos{\\left(\\beta + \\theta \\right)} - 2.0 L U d_{\\epsilon} \\sin{\\left(\\epsilon \\right)} \\sin{\\left(\\beta + \\theta \\right)} + 2.0 L U d_{\\theta} \\cos{\\left(\\alpha \\right)} \\cos{\\left(\\beta + \\theta \\right)} + 1.0 U^{2}} \\sin{\\left(\\alpha \\right)} \\cos{\\left(\\epsilon \\right)} \\cos{\\left(\\beta + \\theta \\right)} + 1.0 C_{D} L S U \\rho \\sqrt{1.0 L^{2} d_{\\epsilon}^{2} + 1.0 L^{2} d_{\\theta}^{2} + 2.0 L U d_{\\epsilon} \\sin{\\left(\\alpha \\right)} \\cos{\\left(\\epsilon \\right)} \\cos{\\left(\\beta + \\theta \\right)} - 2.0 L U d_{\\epsilon} \\sin{\\left(\\epsilon \\right)} \\sin{\\left(\\beta + \\theta \\right)} + 2.0 L U d_{\\theta} \\cos{\\left(\\alpha \\right)} \\cos{\\left(\\beta + \\theta \\right)} + 1.0 U^{2}} \\sin{\\left(\\epsilon \\right)} \\sin{\\left(\\beta + \\theta \\right)} + 2.0 K L V_{D} + 2.0 K L V_{E} - 4.0 L^{2} d_{\\alpha} d_{\\theta} m_{m} + 4.0 L g m_{m} \\cos{\\left(\\alpha \\right)} \\cos{\\left(\\epsilon \\right)} + 2.0 M_{P x} - 2.0 d_{\\alpha} d_{\\theta} l^{2} m_{c} - 2.0 g l m_{c} \\cos{\\left(\\alpha \\right)} \\cos{\\left(\\epsilon \\right)}}{4.0 L^{2} m_{m} + 2.0 l^{2} m_{c}}$"
      ],
      "text/plain": [
       "<IPython.core.display.Latex object>"
      ]
     },
     "metadata": {},
     "output_type": "display_data"
    }
   ],
   "source": [
    "display(Latex(f'$\\\\ddot{{\\\\varepsilon}} = {sp.latex(d_d_epsilon)}$'))\n",
    "display(Latex(f'$\\\\ddot{{\\\\alpha}} = {sp.latex(d_d_alpha)}$'))\n",
    "display(Latex(f'$\\\\ddot{{\\\\theta}} = {sp.latex(d_d_epsilon)}$'))"
   ]
  },
  {
   "cell_type": "code",
   "execution_count": 627,
   "metadata": {},
   "outputs": [],
   "source": [
    "# Substituições para forma de espaço de estados\n",
    "d_x4 = d_d_epsilon.subs([\n",
    "    (epsilon, x1), (alpha, x2), (theta, x3),\n",
    "    (d_epsilon, x4), (d_alpha, x5), (d_theta, x6),\n",
    "    (V_D, u1), (V_E, u2),\n",
    "    (M_P_x, w1), (M_P_y, w2), (M_P_z, w3)\n",
    "])\n",
    "\n",
    "d_x5 = d_d_alpha.subs([\n",
    "    (epsilon, x1), (alpha, x2), (theta, x3),\n",
    "    (d_epsilon, x4), (d_alpha, x5), (d_theta, x6),\n",
    "    (V_D, u1), (V_E, u2),\n",
    "    (M_P_x, w1), (M_P_y, w2), (M_P_z, w3)\n",
    "])\n",
    "\n",
    "d_x6 = d_d_theta.subs([\n",
    "    (epsilon, x1), (alpha, x2), (theta, x3),\n",
    "    (d_epsilon, x4), (d_alpha, x5), (d_theta, x6),\n",
    "    (V_D, u1), (V_E, u2),\n",
    "    (M_P_x, w1), (M_P_y, w2), (M_P_z, w3)\n",
    "])\n",
    "\n",
    "# Vetores de estado e entrada\n",
    "x = sp.Matrix([x1, x2, x3, x4, x5, x6])\n",
    "u = sp.Matrix([u1, u2])\n",
    "w = sp.Matrix([w1, w2, w3])\n",
    "\n",
    "# Equações de estado e saída\n",
    "f = sp.Matrix([x4, x5, x6, d_x4, d_x5, d_x6])\n",
    "h = sp.Matrix([x1, x2, x3])"
   ]
  },
  {
   "cell_type": "markdown",
   "metadata": {},
   "source": [
    "## Ponto de Equilíbrio"
   ]
  },
  {
   "cell_type": "code",
   "execution_count": 628,
   "metadata": {},
   "outputs": [],
   "source": [
    "# Ponto de equilíbrio\n",
    "subs_eq = {\n",
    "    x1: epsilon_linha,\n",
    "    x2: alpha_linha,\n",
    "    x3: theta_linha,\n",
    "    x4: 0,\n",
    "    x5: 0,\n",
    "    x6: 0,\n",
    "    w1: 0,\n",
    "    w2: 0,\n",
    "    w3: 0\n",
    "}\n",
    "\n",
    "ddX_eq = f.subs(subs_eq)\n",
    "sol_eq = sp.solve([\n",
    "    ddX_eq[3].simplify(),  # d_x4 == 0\n",
    "    ddX_eq[4].simplify()   # d_x5 == 0\n",
    "], (u1, u2), dict=True)[0]\n",
    "\n",
    "u1_eq = sp.simplify(sol_eq[u1])\n",
    "u2_eq = sp.simplify(sol_eq[u2])"
   ]
  },
  {
   "cell_type": "code",
   "execution_count": 629,
   "metadata": {},
   "outputs": [
    {
     "data": {
      "text/latex": [
       "$u_{1_{eq}} = \\frac{L \\left(0.25 C_{D} S U \\rho \\sqrt{U^{2}} \\sin{\\left(\\alpha_{linha} \\right)} \\cos{\\left(\\epsilon_{linha} \\right)} \\cos{\\left(\\beta + \\theta_{linha} \\right)} - 0.25 C_{D} S U \\rho \\sqrt{U^{2}} \\sin{\\left(\\epsilon_{linha} \\right)} \\sin{\\left(\\beta + \\theta_{linha} \\right)} - g m_{m} \\cos{\\left(\\alpha_{linha} \\right)} \\cos{\\left(\\epsilon_{linha} \\right)}\\right) + 0.5 g l m_{c} \\cos{\\left(\\alpha_{linha} \\right)} \\cos{\\left(\\epsilon_{linha} \\right)}}{K L}$"
      ],
      "text/plain": [
       "<IPython.core.display.Latex object>"
      ]
     },
     "metadata": {},
     "output_type": "display_data"
    },
    {
     "data": {
      "text/latex": [
       "$u_{2_{eq}} = \\frac{L \\left(0.25 C_{D} S U \\rho \\sqrt{U^{2}} \\sin{\\left(\\alpha_{linha} \\right)} \\cos{\\left(\\epsilon_{linha} \\right)} \\cos{\\left(\\beta + \\theta_{linha} \\right)} - 0.25 C_{D} S U \\rho \\sqrt{U^{2}} \\sin{\\left(\\epsilon_{linha} \\right)} \\sin{\\left(\\beta + \\theta_{linha} \\right)} - g m_{m} \\cos{\\left(\\alpha_{linha} \\right)} \\cos{\\left(\\epsilon_{linha} \\right)}\\right) + 0.5 g l m_{c} \\cos{\\left(\\alpha_{linha} \\right)} \\cos{\\left(\\epsilon_{linha} \\right)}}{K L}$"
      ],
      "text/plain": [
       "<IPython.core.display.Latex object>"
      ]
     },
     "metadata": {},
     "output_type": "display_data"
    }
   ],
   "source": [
    "display(Latex(f'$u_{{1_{{eq}}}} = {sp.latex(u1_eq)}$'))\n",
    "display(Latex(f'$u_{{2_{{eq}}}} = {sp.latex(u2_eq)}$'))"
   ]
  },
  {
   "cell_type": "markdown",
   "metadata": {},
   "source": [
    "## Espaço de Estados Linearizado"
   ]
  },
  {
   "cell_type": "code",
   "execution_count": 630,
   "metadata": {},
   "outputs": [],
   "source": [
    "# Linearizacao\n",
    "A = f.jacobian(x)\n",
    "B = f.jacobian(u)\n",
    "E = f.jacobian(w)\n",
    "C = h.jacobian(x)\n",
    "D = h.jacobian(u)\n",
    "\n",
    "# Substituições completas com entradas e perturbações de equilíbrio\n",
    "subs_all_eq = dict(subs_eq)\n",
    "subs_all_eq[u1] = u1_eq\n",
    "subs_all_eq[u2] = u2_eq\n",
    "\n",
    "# Avaliação dos Jacobianos no ponto de equilíbrio\n",
    "A = A.subs(subs_all_eq)\n",
    "B = B.subs(subs_all_eq)\n",
    "C = C.subs(subs_all_eq)\n",
    "D = D.subs(subs_all_eq)\n",
    "E = E.subs(subs_all_eq)"
   ]
  },
  {
   "cell_type": "code",
   "execution_count": 631,
   "metadata": {},
   "outputs": [
    {
     "data": {
      "text/latex": [
       "$A = \\left[\\begin{matrix}0 & 0 & 0 & 1 & 0 & 0\\\\0 & 0 & 0 & 0 & 1 & 0\\\\0 & 0 & 0 & 0 & 0 & 1\\\\\\frac{1.0 C_{D} L S U \\rho \\sqrt{U^{2}} \\sin{\\left(\\alpha_{linha} \\right)} \\sin{\\left(\\epsilon_{linha} \\right)} \\cos{\\left(\\beta + \\theta_{linha} \\right)} + 1.0 C_{D} L S U \\rho \\sqrt{U^{2}} \\sin{\\left(\\beta + \\theta_{linha} \\right)} \\cos{\\left(\\epsilon_{linha} \\right)} - 4.0 L g m_{m} \\sin{\\left(\\epsilon_{linha} \\right)} \\cos{\\left(\\alpha_{linha} \\right)} + 2.0 g l m_{c} \\sin{\\left(\\epsilon_{linha} \\right)} \\cos{\\left(\\alpha_{linha} \\right)}}{4.0 L^{2} m_{m} + 2.0 l^{2} m_{c}} & \\frac{- 1.0 C_{D} L S U \\rho \\sqrt{U^{2}} \\cos{\\left(\\alpha_{linha} \\right)} \\cos{\\left(\\epsilon_{linha} \\right)} \\cos{\\left(\\beta + \\theta_{linha} \\right)} - 4.0 L g m_{m} \\sin{\\left(\\alpha_{linha} \\right)} \\cos{\\left(\\epsilon_{linha} \\right)} + 2.0 g l m_{c} \\sin{\\left(\\alpha_{linha} \\right)} \\cos{\\left(\\epsilon_{linha} \\right)}}{4.0 L^{2} m_{m} + 2.0 l^{2} m_{c}} & \\frac{1.0 C_{D} L S U \\rho \\sqrt{U^{2}} \\sin{\\left(\\alpha_{linha} \\right)} \\sin{\\left(\\beta + \\theta_{linha} \\right)} \\cos{\\left(\\epsilon_{linha} \\right)} + 1.0 C_{D} L S U \\rho \\sqrt{U^{2}} \\sin{\\left(\\epsilon_{linha} \\right)} \\cos{\\left(\\beta + \\theta_{linha} \\right)}}{4.0 L^{2} m_{m} + 2.0 l^{2} m_{c}} & \\frac{- 1.0 C_{D} L^{2} S \\rho \\sqrt{U^{2}} - \\frac{1.0 C_{D} L S U \\rho \\left(1.0 L U \\sin{\\left(\\alpha_{linha} \\right)} \\cos{\\left(\\epsilon_{linha} \\right)} \\cos{\\left(\\beta + \\theta_{linha} \\right)} - 1.0 L U \\sin{\\left(\\epsilon_{linha} \\right)} \\sin{\\left(\\beta + \\theta_{linha} \\right)}\\right) \\sin{\\left(\\alpha_{linha} \\right)} \\cos{\\left(\\epsilon_{linha} \\right)} \\cos{\\left(\\beta + \\theta_{linha} \\right)}}{\\sqrt{U^{2}}} + \\frac{1.0 C_{D} L S U \\rho \\left(1.0 L U \\sin{\\left(\\alpha_{linha} \\right)} \\cos{\\left(\\epsilon_{linha} \\right)} \\cos{\\left(\\beta + \\theta_{linha} \\right)} - 1.0 L U \\sin{\\left(\\epsilon_{linha} \\right)} \\sin{\\left(\\beta + \\theta_{linha} \\right)}\\right) \\sin{\\left(\\epsilon_{linha} \\right)} \\sin{\\left(\\beta + \\theta_{linha} \\right)}}{\\sqrt{U^{2}}}}{4.0 L^{2} m_{m} + 2.0 l^{2} m_{c}} & 0 & \\frac{- \\frac{1.0 C_{D} L^{2} S U^{2} \\rho \\sin{\\left(\\alpha_{linha} \\right)} \\cos{\\left(\\alpha_{linha} \\right)} \\cos{\\left(\\epsilon_{linha} \\right)} \\cos^{2}{\\left(\\beta + \\theta_{linha} \\right)}}{\\sqrt{U^{2}}} + \\frac{1.0 C_{D} L^{2} S U^{2} \\rho \\sin{\\left(\\epsilon_{linha} \\right)} \\sin{\\left(\\beta + \\theta_{linha} \\right)} \\cos{\\left(\\alpha_{linha} \\right)} \\cos{\\left(\\beta + \\theta_{linha} \\right)}}{\\sqrt{U^{2}}}}{4.0 L^{2} m_{m} + 2.0 l^{2} m_{c}}\\\\0 & 0 & 0 & 0 & 0 & 0\\\\0 & \\frac{1.0 C_{D} L S U \\rho \\sqrt{U^{2}} \\sin{\\left(\\alpha_{linha} \\right)} \\cos{\\left(\\beta + \\theta_{linha} \\right)} - 4.0 L g m_{m} \\cos{\\left(\\alpha_{linha} \\right)} + 2.0 g l m_{c} \\cos{\\left(\\alpha_{linha} \\right)}}{4.0 L^{2} m_{m} + 4.0 a^{2} m_{m} + 2.0 l^{2} m_{c}} & \\frac{1.0 C_{D} L S U \\rho \\sqrt{U^{2}} \\sin{\\left(\\beta + \\theta_{linha} \\right)} \\cos{\\left(\\alpha_{linha} \\right)}}{4.0 L^{2} m_{m} + 4.0 a^{2} m_{m} + 2.0 l^{2} m_{c}} & - \\frac{1.0 C_{D} L S U \\rho \\left(1.0 L U \\sin{\\left(\\alpha_{linha} \\right)} \\cos{\\left(\\epsilon_{linha} \\right)} \\cos{\\left(\\beta + \\theta_{linha} \\right)} - 1.0 L U \\sin{\\left(\\epsilon_{linha} \\right)} \\sin{\\left(\\beta + \\theta_{linha} \\right)}\\right) \\cos{\\left(\\alpha_{linha} \\right)} \\cos{\\left(\\beta + \\theta_{linha} \\right)}}{\\left(4.0 L^{2} m_{m} + 4.0 a^{2} m_{m} + 2.0 l^{2} m_{c}\\right) \\sqrt{U^{2}}} & 0 & \\frac{- \\frac{1.0 C_{D} L^{2} S U^{2} \\rho \\cos^{2}{\\left(\\alpha_{linha} \\right)} \\cos^{2}{\\left(\\beta + \\theta_{linha} \\right)}}{\\sqrt{U^{2}}} - 1.0 C_{D} L^{2} S \\rho \\sqrt{U^{2}}}{4.0 L^{2} m_{m} + 4.0 a^{2} m_{m} + 2.0 l^{2} m_{c}}\\end{matrix}\\right]$"
      ],
      "text/plain": [
       "<IPython.core.display.Latex object>"
      ]
     },
     "metadata": {},
     "output_type": "display_data"
    },
    {
     "data": {
      "text/latex": [
       "$B = \\left[\\begin{matrix}0 & 0\\\\0 & 0\\\\0 & 0\\\\\\frac{2.0 K L}{4.0 L^{2} m_{m} + 2.0 l^{2} m_{c}} & \\frac{2.0 K L}{4.0 L^{2} m_{m} + 2.0 l^{2} m_{c}}\\\\- \\frac{0.5 K}{a m_{m}} & \\frac{0.5 K}{a m_{m}}\\\\0 & 0\\end{matrix}\\right]$"
      ],
      "text/plain": [
       "<IPython.core.display.Latex object>"
      ]
     },
     "metadata": {},
     "output_type": "display_data"
    },
    {
     "data": {
      "text/latex": [
       "$C = \\left[\\begin{matrix}1 & 0 & 0 & 0 & 0 & 0\\\\0 & 1 & 0 & 0 & 0 & 0\\\\0 & 0 & 1 & 0 & 0 & 0\\end{matrix}\\right]$"
      ],
      "text/plain": [
       "<IPython.core.display.Latex object>"
      ]
     },
     "metadata": {},
     "output_type": "display_data"
    },
    {
     "data": {
      "text/latex": [
       "$D = \\left[\\begin{matrix}0 & 0\\\\0 & 0\\\\0 & 0\\end{matrix}\\right]$"
      ],
      "text/plain": [
       "<IPython.core.display.Latex object>"
      ]
     },
     "metadata": {},
     "output_type": "display_data"
    },
    {
     "data": {
      "text/latex": [
       "$E = \\left[\\begin{matrix}0 & 0 & 0\\\\0 & 0 & 0\\\\0 & 0 & 0\\\\\\frac{2.0}{4.0 L^{2} m_{m} + 2.0 l^{2} m_{c}} & 0 & 0\\\\0 & \\frac{0.5}{a^{2} m_{m}} & 0\\\\0 & 0 & \\frac{2.0}{4.0 L^{2} m_{m} + 4.0 a^{2} m_{m} + 2.0 l^{2} m_{c}}\\end{matrix}\\right]$"
      ],
      "text/plain": [
       "<IPython.core.display.Latex object>"
      ]
     },
     "metadata": {},
     "output_type": "display_data"
    }
   ],
   "source": [
    "display(Latex(f'$A = {sp.latex(A)}$'))\n",
    "display(Latex(f'$B = {sp.latex(B)}$'))\n",
    "display(Latex(f'$C = {sp.latex(C)}$'))\n",
    "display(Latex(f'$D = {sp.latex(D)}$'))\n",
    "display(Latex(f'$E = {sp.latex(E)}$'))"
   ]
  },
  {
   "cell_type": "code",
   "execution_count": 632,
   "metadata": {},
   "outputs": [],
   "source": [
    "# Aproximação para pequenos ângulos: sin(a) = a, cos(a)=1, sin(a+b)=a+b e cos(a+b)=1-a*b\n",
    "small_angle_subs = {\n",
    "    sp.sin(epsilon_linha): epsilon_linha,\n",
    "    sp.cos(epsilon_linha): 1,\n",
    "    sp.sin(alpha_linha): alpha_linha,\n",
    "    sp.cos(alpha_linha): 1,\n",
    "    sp.sin(beta + theta_linha): beta + theta_linha,\n",
    "    sp.cos(beta + theta_linha): 1 - beta * theta_linha\n",
    "}\n",
    "\n",
    "A = sp.simplify(A.subs(small_angle_subs))\n",
    "B = sp.simplify(B.subs(small_angle_subs))\n",
    "C = sp.simplify(C.subs(small_angle_subs))\n",
    "D = sp.simplify(D.subs(small_angle_subs))\n",
    "E= sp.simplify(E.subs(small_angle_subs))"
   ]
  },
  {
   "cell_type": "code",
   "execution_count": 633,
   "metadata": {},
   "outputs": [
    {
     "data": {
      "text/latex": [
       "$A = \\left[\\begin{matrix}0 & 0 & 0 & 1 & 0 & 0\\\\0 & 0 & 0 & 0 & 1 & 0\\\\0 & 0 & 0 & 0 & 0 & 1\\\\\\frac{- 1.0 C_{D} L S U \\alpha_{linha} \\epsilon_{linha} \\rho \\left(\\beta \\theta_{linha} - 1\\right) \\sqrt{U^{2}} + 1.0 C_{D} L S U \\rho \\left(\\beta + \\theta_{linha}\\right) \\sqrt{U^{2}} - 4.0 L \\epsilon_{linha} g m_{m} + 2.0 \\epsilon_{linha} g l m_{c}}{4.0 L^{2} m_{m} + 2.0 l^{2} m_{c}} & \\frac{1.0 C_{D} L S U \\rho \\left(\\beta \\theta_{linha} - 1\\right) \\sqrt{U^{2}} - 4.0 L \\alpha_{linha} g m_{m} + 2.0 \\alpha_{linha} g l m_{c}}{4.0 L^{2} m_{m} + 2.0 l^{2} m_{c}} & \\frac{1.0 C_{D} L S U \\rho \\left(\\alpha_{linha} \\left(\\beta + \\theta_{linha}\\right) - \\epsilon_{linha} \\left(\\beta \\theta_{linha} - 1\\right)\\right) \\sqrt{U^{2}}}{4.0 L^{2} m_{m} + 2.0 l^{2} m_{c}} & - \\frac{1.0 C_{D} L^{2} S U^{2} \\rho \\left(\\alpha_{linha} \\left(\\alpha_{linha} \\left(\\beta \\theta_{linha} - 1\\right) + \\epsilon_{linha} \\left(\\beta + \\theta_{linha}\\right)\\right) \\left(\\beta \\theta_{linha} - 1\\right) + \\epsilon_{linha} \\left(\\beta + \\theta_{linha}\\right) \\left(\\alpha_{linha} \\left(\\beta \\theta_{linha} - 1\\right) + \\epsilon_{linha} \\left(\\beta + \\theta_{linha}\\right)\\right) + 1\\right)}{\\left(4.0 L^{2} m_{m} + 2.0 l^{2} m_{c}\\right) \\sqrt{U^{2}}} & 0 & \\frac{1.0 C_{D} L^{2} S U^{2} \\rho \\left(- \\alpha_{linha} \\left(\\beta \\theta_{linha} - 1\\right) - \\epsilon_{linha} \\left(\\beta + \\theta_{linha}\\right)\\right) \\left(\\beta \\theta_{linha} - 1\\right)}{\\left(4.0 L^{2} m_{m} + 2.0 l^{2} m_{c}\\right) \\sqrt{U^{2}}}\\\\0 & 0 & 0 & 0 & 0 & 0\\\\0 & \\frac{- 1.0 C_{D} L S U \\alpha_{linha} \\rho \\left(\\beta \\theta_{linha} - 1\\right) \\sqrt{U^{2}} - 4.0 L g m_{m} + 2.0 g l m_{c}}{4.0 L^{2} m_{m} + 4.0 a^{2} m_{m} + 2.0 l^{2} m_{c}} & \\frac{1.0 C_{D} L S U \\rho \\left(\\beta + \\theta_{linha}\\right) \\sqrt{U^{2}}}{4.0 L^{2} m_{m} + 4.0 a^{2} m_{m} + 2.0 l^{2} m_{c}} & - \\frac{1.0 C_{D} L^{2} S U^{2} \\rho \\left(\\alpha_{linha} \\left(\\beta \\theta_{linha} - 1\\right) + \\epsilon_{linha} \\left(\\beta + \\theta_{linha}\\right)\\right) \\left(\\beta \\theta_{linha} - 1\\right)}{\\left(4.0 L^{2} m_{m} + 4.0 a^{2} m_{m} + 2.0 l^{2} m_{c}\\right) \\sqrt{U^{2}}} & 0 & \\frac{1.0 C_{D} L^{2} S U^{2} \\rho \\left(- \\left(\\beta \\theta_{linha} - 1\\right)^{2} - 1\\right)}{\\left(4.0 L^{2} m_{m} + 4.0 a^{2} m_{m} + 2.0 l^{2} m_{c}\\right) \\sqrt{U^{2}}}\\end{matrix}\\right]$"
      ],
      "text/plain": [
       "<IPython.core.display.Latex object>"
      ]
     },
     "metadata": {},
     "output_type": "display_data"
    },
    {
     "data": {
      "text/latex": [
       "$B = \\left[\\begin{matrix}0 & 0\\\\0 & 0\\\\0 & 0\\\\\\frac{2.0 K L}{4.0 L^{2} m_{m} + 2.0 l^{2} m_{c}} & \\frac{2.0 K L}{4.0 L^{2} m_{m} + 2.0 l^{2} m_{c}}\\\\- \\frac{0.5 K}{a m_{m}} & \\frac{0.5 K}{a m_{m}}\\\\0 & 0\\end{matrix}\\right]$"
      ],
      "text/plain": [
       "<IPython.core.display.Latex object>"
      ]
     },
     "metadata": {},
     "output_type": "display_data"
    },
    {
     "data": {
      "text/latex": [
       "$C = \\left[\\begin{matrix}1 & 0 & 0 & 0 & 0 & 0\\\\0 & 1 & 0 & 0 & 0 & 0\\\\0 & 0 & 1 & 0 & 0 & 0\\end{matrix}\\right]$"
      ],
      "text/plain": [
       "<IPython.core.display.Latex object>"
      ]
     },
     "metadata": {},
     "output_type": "display_data"
    },
    {
     "data": {
      "text/latex": [
       "$D = \\left[\\begin{matrix}0 & 0\\\\0 & 0\\\\0 & 0\\end{matrix}\\right]$"
      ],
      "text/plain": [
       "<IPython.core.display.Latex object>"
      ]
     },
     "metadata": {},
     "output_type": "display_data"
    },
    {
     "data": {
      "text/latex": [
       "$E = \\left[\\begin{matrix}0 & 0 & 0\\\\0 & 0 & 0\\\\0 & 0 & 0\\\\\\frac{2.0}{4.0 L^{2} m_{m} + 2.0 l^{2} m_{c}} & 0 & 0\\\\0 & \\frac{0.5}{a^{2} m_{m}} & 0\\\\0 & 0 & \\frac{2.0}{4.0 L^{2} m_{m} + 4.0 a^{2} m_{m} + 2.0 l^{2} m_{c}}\\end{matrix}\\right]$"
      ],
      "text/plain": [
       "<IPython.core.display.Latex object>"
      ]
     },
     "metadata": {},
     "output_type": "display_data"
    }
   ],
   "source": [
    "display(Latex(f'$A = {sp.latex(A)}$'))\n",
    "display(Latex(f'$B = {sp.latex(B)}$'))\n",
    "display(Latex(f'$C = {sp.latex(C)}$'))\n",
    "display(Latex(f'$D = {sp.latex(D)}$'))\n",
    "display(Latex(f'$E = {sp.latex(E)}$'))"
   ]
  },
  {
   "cell_type": "code",
   "execution_count": 634,
   "metadata": {},
   "outputs": [],
   "source": [
    "# Substitituicao numerica\n",
    "A_num = A.subs(params).evalf()\n",
    "B_num = B.subs(params).evalf()\n",
    "C_num = C.subs(params).evalf()\n",
    "D_num = D.subs(params).evalf()\n",
    "E_num = E.subs(params).evalf()"
   ]
  },
  {
   "cell_type": "markdown",
   "metadata": {},
   "source": [
    "## Análise de Estabilidade"
   ]
  },
  {
   "cell_type": "code",
   "execution_count": 635,
   "metadata": {},
   "outputs": [
    {
     "data": {
      "text/latex": [
       "$\\displaystyle \\operatorname{PurePoly}{\\left( 1.0 s^{6} + \\left(0.0039964518169993 \\alpha_{linha}^{2} - 0.00168429111074122 \\alpha_{linha} \\epsilon_{linha} + 0.000177459698979425 \\epsilon_{linha}^{2} + 0.0114347965906679\\right) s^{5} + \\left(1.48555213437681 \\cdot 10^{-5} \\alpha_{linha}^{2} - 0.0314199236077218 \\alpha_{linha} \\epsilon_{linha} + 6.59649225503965 \\cdot 10^{-7} \\epsilon_{linha}^{2} - 4.03309783891985 \\epsilon_{linha} - 0.0126719149803521\\right) s^{4} + \\left(- 3.3881317890172 \\cdot 10^{-21} \\alpha_{linha}^{2} - 0.00011164805242729 \\alpha_{linha} \\epsilon_{linha} - 2.53866384789675 \\cdot 10^{-5} \\epsilon_{linha}^{2} - 0.0298013688584842 \\epsilon_{linha} - 7.35196813385181 \\cdot 10^{-5}\\right) s^{3} + \\left(5.29395592033938 \\cdot 10^{-23} \\alpha_{linha}^{2} \\epsilon_{linha}^{2} + 5.42101086242752 \\cdot 10^{-20} \\alpha_{linha}^{2} \\epsilon_{linha} - 7.94093388050907 \\cdot 10^{-23} \\alpha_{linha}^{2} + 9.92616735063633 \\cdot 10^{-24} \\alpha_{linha} \\epsilon_{linha}^{3} - 1.01643953670516 \\cdot 10^{-20} \\alpha_{linha} \\epsilon_{linha}^{2} + 0.000191064735730922 \\alpha_{linha} \\epsilon_{linha} + 0.0245301790406917 \\epsilon_{linha} + 4.0261793548826 \\cdot 10^{-5}\\right) s^{2}, s, domain=\\mathbb{R}\\left[\\alpha_{linha}, \\epsilon_{linha}\\right] \\right)}$"
      ],
      "text/plain": [
       "PurePoly(1.0*s**6 + (0.0039964518169993*alpha_linha**2 - 0.00168429111074122*alpha_linha*epsilon_linha + 0.000177459698979425*epsilon_linha**2 + 0.0114347965906679)*s**5 + (1.48555213437681e-5*alpha_linha**2 - 0.0314199236077218*alpha_linha*epsilon_linha + 6.59649225503965e-7*epsilon_linha**2 - 4.03309783891985*epsilon_linha - 0.0126719149803521)*s**4 + (-3.3881317890172e-21*alpha_linha**2 - 0.00011164805242729*alpha_linha*epsilon_linha - 2.53866384789675e-5*epsilon_linha**2 - 0.0298013688584842*epsilon_linha - 7.35196813385181e-5)*s**3 + (5.29395592033938e-23*alpha_linha**2*epsilon_linha**2 + 5.42101086242752e-20*alpha_linha**2*epsilon_linha - 7.94093388050907e-23*alpha_linha**2 + 9.92616735063633e-24*alpha_linha*epsilon_linha**3 - 1.01643953670516e-20*alpha_linha*epsilon_linha**2 + 0.000191064735730922*alpha_linha*epsilon_linha + 0.0245301790406917*epsilon_linha + 4.0261793548826e-5)*s**2, s, domain='RR[alpha_linha,epsilon_linha]')"
      ]
     },
     "execution_count": 635,
     "metadata": {},
     "output_type": "execute_result"
    }
   ],
   "source": [
    "p = sp.simplify(A_num.charpoly('s'))\n",
    "p"
   ]
  },
  {
   "cell_type": "code",
   "execution_count": 636,
   "metadata": {},
   "outputs": [
    {
     "data": {
      "text/latex": [
       "$\\displaystyle \\left[\\begin{matrix}1.0 & 1.48555213437681 \\cdot 10^{-5} \\alpha_{linha}^{2} - 0.0314199236077218 \\alpha_{linha} \\epsilon_{linha} + 6.59649225503965 \\cdot 10^{-7} \\epsilon_{linha}^{2} - 4.03309783891985 \\epsilon_{linha} - 0.0126719149803521 & 5.29395592033938 \\cdot 10^{-23} \\alpha_{linha}^{2} \\epsilon_{linha}^{2} + 5.42101086242752 \\cdot 10^{-20} \\alpha_{linha}^{2} \\epsilon_{linha} - 7.94093388050907 \\cdot 10^{-23} \\alpha_{linha}^{2} + 9.92616735063633 \\cdot 10^{-24} \\alpha_{linha} \\epsilon_{linha}^{3} - 1.01643953670516 \\cdot 10^{-20} \\alpha_{linha} \\epsilon_{linha}^{2} + 0.000191064735730922 \\alpha_{linha} \\epsilon_{linha} + 0.0245301790406917 \\epsilon_{linha} + 4.0261793548826 \\cdot 10^{-5} & 0\\\\0.0039964518169993 \\alpha_{linha}^{2} - 0.00168429111074122 \\alpha_{linha} \\epsilon_{linha} + 0.000177459698979425 \\epsilon_{linha}^{2} + 0.0114347965906679 & - 3.3881317890172 \\cdot 10^{-21} \\alpha_{linha}^{2} - 0.00011164805242729 \\alpha_{linha} \\epsilon_{linha} - 2.53866384789675 \\cdot 10^{-5} \\epsilon_{linha}^{2} - 0.0298013688584842 \\epsilon_{linha} - 7.35196813385181 \\cdot 10^{-5} & 0 & 0\\\\\\frac{5.93693752667738 \\cdot 10^{-8} \\alpha_{linha}^{4} - 0.000125593231814604 \\alpha_{linha}^{3} \\epsilon_{linha} + 5.29255705453457 \\cdot 10^{-5} \\alpha_{linha}^{2} \\epsilon_{linha}^{2} - 0.0161180811864872 \\alpha_{linha}^{2} \\epsilon_{linha} - 5.04728277832744 \\cdot 10^{-5} \\alpha_{linha}^{2} - 5.57688122670956 \\cdot 10^{-6} \\alpha_{linha} \\epsilon_{linha}^{3} + 0.00679291083884232 \\alpha_{linha} \\epsilon_{linha}^{2} - 0.000226289189163857 \\alpha_{linha} \\epsilon_{linha} + 1.17061152989944 \\cdot 10^{-10} \\epsilon_{linha}^{4} - 0.000715712328449285 \\epsilon_{linha}^{3} + 2.31454272157762 \\cdot 10^{-5} \\epsilon_{linha}^{2} - 0.0163162845598264 \\epsilon_{linha} - 7.13810888760447 \\cdot 10^{-5}}{0.0039964518169993 \\alpha_{linha}^{2} - 0.00168429111074122 \\alpha_{linha} \\epsilon_{linha} + 0.000177459698979425 \\epsilon_{linha}^{2} + 0.0114347965906679} & \\frac{2.11570397569545 \\cdot 10^{-25} \\alpha_{linha}^{4} \\epsilon_{linha}^{2} + 2.16648087111214 \\cdot 10^{-22} \\alpha_{linha}^{4} \\epsilon_{linha} - 3.17355596354318 \\cdot 10^{-25} \\alpha_{linha}^{4} - 4.94961794285449 \\cdot 10^{-26} \\alpha_{linha}^{3} \\epsilon_{linha}^{3} - 1.31927120401535 \\cdot 10^{-22} \\alpha_{linha}^{3} \\epsilon_{linha}^{2} + 7.63581010276336 \\cdot 10^{-7} \\alpha_{linha}^{3} \\epsilon_{linha} - 7.32391719206878 \\cdot 10^{-27} \\alpha_{linha}^{2} \\epsilon_{linha}^{4} + 2.67399103208901 \\cdot 10^{-23} \\alpha_{linha}^{2} \\epsilon_{linha}^{3} - 3.21808635967713 \\cdot 10^{-7} \\alpha_{linha}^{2} \\epsilon_{linha}^{2} + 9.80336785984906 \\cdot 10^{-5} \\alpha_{linha}^{2} \\epsilon_{linha} + 1.60904317983856 \\cdot 10^{-7} \\alpha_{linha}^{2} + 1.76149467006332 \\cdot 10^{-27} \\alpha_{linha} \\epsilon_{linha}^{5} - 1.80377054214484 \\cdot 10^{-24} \\alpha_{linha} \\epsilon_{linha}^{4} + 3.39062904883929 \\cdot 10^{-8} \\alpha_{linha} \\epsilon_{linha}^{3} - 4.13159625031276 \\cdot 10^{-5} \\alpha_{linha} \\epsilon_{linha}^{2} + 2.11697380775602 \\cdot 10^{-6} \\alpha_{linha} \\epsilon_{linha} + 4.35311818847255 \\cdot 10^{-6} \\epsilon_{linha}^{3} + 7.14484576354641 \\cdot 10^{-9} \\epsilon_{linha}^{2} + 0.000280497607662974 \\epsilon_{linha} + 4.60385419606289 \\cdot 10^{-7}}{0.0039964518169993 \\alpha_{linha}^{2} - 0.00168429111074122 \\alpha_{linha} \\epsilon_{linha} + 0.000177459698979425 \\epsilon_{linha}^{2} + 0.0114347965906679} & 0 & 0\\\\\\frac{8.45530899790074 \\cdot 10^{-28} \\alpha_{linha}^{6} \\epsilon_{linha}^{2} + 8.65823641385035 \\cdot 10^{-25} \\alpha_{linha}^{6} \\epsilon_{linha} - 1.06714508204966 \\cdot 10^{-27} \\alpha_{linha}^{6} - 5.54155236134102 \\cdot 10^{-28} \\alpha_{linha}^{5} \\epsilon_{linha}^{3} - 8.92138827320709 \\cdot 10^{-25} \\alpha_{linha}^{5} \\epsilon_{linha}^{2} + 3.05824319106739 \\cdot 10^{-9} \\alpha_{linha}^{5} \\epsilon_{linha} + 9.16415119230036 \\cdot 10^{-29} \\alpha_{linha}^{4} \\epsilon_{linha}^{4} + 3.67514743669536 \\cdot 10^{-25} \\alpha_{linha}^{4} \\epsilon_{linha}^{3} - 1.65929179571615 \\cdot 10^{-8} \\alpha_{linha}^{4} \\epsilon_{linha}^{2} + 3.93556161613286 \\cdot 10^{-7} \\alpha_{linha}^{4} \\epsilon_{linha} + 6.47411171520496 \\cdot 10^{-10} \\alpha_{linha}^{4} + 1.05917600951942 \\cdot 10^{-29} \\alpha_{linha}^{3} \\epsilon_{linha}^{5} - 7.56582223897758 \\cdot 10^{-26} \\alpha_{linha}^{3} \\epsilon_{linha}^{4} + 3.53367604088873 \\cdot 10^{-9} \\alpha_{linha}^{3} \\epsilon_{linha}^{3} - 5.87263710760575 \\cdot 10^{-6} \\alpha_{linha}^{3} \\epsilon_{linha}^{2} + 2.05200033730809 \\cdot 10^{-9} \\alpha_{linha}^{3} \\epsilon_{linha} - 4.26656995466045 \\cdot 10^{-30} \\alpha_{linha}^{2} \\epsilon_{linha}^{6} + 7.78333112623339 \\cdot 10^{-27} \\alpha_{linha}^{2} \\epsilon_{linha}^{5} + 6.06738270811726 \\cdot 10^{-10} \\alpha_{linha}^{2} \\epsilon_{linha}^{4} + 2.03086797784415 \\cdot 10^{-6} \\alpha_{linha}^{2} \\epsilon_{linha}^{3} - 0.000480370726049501 \\alpha_{linha}^{2} \\epsilon_{linha}^{2} - 4.4716520310171 \\cdot 10^{-7} \\alpha_{linha}^{2} \\epsilon_{linha} - 3.09299214691593 \\cdot 10^{-11} \\alpha_{linha}^{2} + 3.12594313903298 \\cdot 10^{-31} \\alpha_{linha} \\epsilon_{linha}^{7} - 3.20096577436977 \\cdot 10^{-28} \\alpha_{linha} \\epsilon_{linha}^{6} - 1.35548197789291 \\cdot 10^{-10} \\alpha_{linha} \\epsilon_{linha}^{5} - 8.83212469388416 \\cdot 10^{-8} \\alpha_{linha} \\epsilon_{linha}^{4} + 0.000202435222295708 \\alpha_{linha} \\epsilon_{linha}^{3} - 9.01087560302269 \\cdot 10^{-6} \\alpha_{linha} \\epsilon_{linha}^{2} - 1.17452682112409 \\cdot 10^{-9} \\alpha_{linha} \\epsilon_{linha} + 2.97178917088682 \\cdot 10^{-15} \\epsilon_{linha}^{6} - 1.73935385113346 \\cdot 10^{-8} \\epsilon_{linha}^{5} - 2.13286182355601 \\cdot 10^{-5} \\epsilon_{linha}^{4} + 3.22484896127272 \\cdot 10^{-7} \\epsilon_{linha}^{3} - 0.000486247561649126 \\epsilon_{linha}^{2} - 1.19389112787205 \\cdot 10^{-7} \\epsilon_{linha} + 1.64987187439351 \\cdot 10^{-11}}{- 5.93693752667738 \\cdot 10^{-8} \\alpha_{linha}^{4} + 0.000125593231814604 \\alpha_{linha}^{3} \\epsilon_{linha} - 5.29255705453457 \\cdot 10^{-5} \\alpha_{linha}^{2} \\epsilon_{linha}^{2} + 0.0161180811864872 \\alpha_{linha}^{2} \\epsilon_{linha} + 5.04728277832744 \\cdot 10^{-5} \\alpha_{linha}^{2} + 5.57688122670956 \\cdot 10^{-6} \\alpha_{linha} \\epsilon_{linha}^{3} - 0.00679291083884232 \\alpha_{linha} \\epsilon_{linha}^{2} + 0.000226289189163857 \\alpha_{linha} \\epsilon_{linha} - 1.17061152989944 \\cdot 10^{-10} \\epsilon_{linha}^{4} + 0.000715712328449285 \\epsilon_{linha}^{3} - 2.31454272157762 \\cdot 10^{-5} \\epsilon_{linha}^{2} + 0.0163162845598264 \\epsilon_{linha} + 7.13810888760447 \\cdot 10^{-5}} & 0 & 0 & 0\\\\- \\frac{\\left(- 5.93693752667738 \\cdot 10^{-8} \\alpha_{linha}^{4} + 0.000125593231814604 \\alpha_{linha}^{3} \\epsilon_{linha} - 5.29255705453457 \\cdot 10^{-5} \\alpha_{linha}^{2} \\epsilon_{linha}^{2} + 0.0161180811864872 \\alpha_{linha}^{2} \\epsilon_{linha} + 5.04728277832744 \\cdot 10^{-5} \\alpha_{linha}^{2} + 5.57688122670956 \\cdot 10^{-6} \\alpha_{linha} \\epsilon_{linha}^{3} - 0.00679291083884232 \\alpha_{linha} \\epsilon_{linha}^{2} + 0.000226289189163857 \\alpha_{linha} \\epsilon_{linha} - 1.17061152989944 \\cdot 10^{-10} \\epsilon_{linha}^{4} + 0.000715712328449285 \\epsilon_{linha}^{3} - 2.31454272157762 \\cdot 10^{-5} \\epsilon_{linha}^{2} + 0.0163162845598264 \\epsilon_{linha} + 7.13810888760447 \\cdot 10^{-5}\\right) \\left(1.78889308625921 \\cdot 10^{-52} \\alpha_{linha}^{10} \\epsilon_{linha}^{4} + 3.66365304065886 \\cdot 10^{-49} \\alpha_{linha}^{10} \\epsilon_{linha}^{3} + 1.87578541571462 \\cdot 10^{-46} \\alpha_{linha}^{10} \\epsilon_{linha}^{2} - 5.05968918745614 \\cdot 10^{-49} \\alpha_{linha}^{10} \\epsilon_{linha} + 3.38664463910448 \\cdot 10^{-52} \\alpha_{linha}^{10} - 1.59093392752526 \\cdot 10^{-52} \\alpha_{linha}^{9} \\epsilon_{linha}^{5} - 4.6321025738188 \\cdot 10^{-49} \\alpha_{linha}^{9} \\epsilon_{linha}^{4} + 1.29266506647974 \\cdot 10^{-33} \\alpha_{linha}^{9} \\epsilon_{linha}^{3} + 1.32368902807557 \\cdot 10^{-30} \\alpha_{linha}^{9} \\epsilon_{linha}^{2} - 1.78540231156063 \\cdot 10^{-33} \\alpha_{linha}^{9} \\epsilon_{linha} + 4.06245998169874 \\cdot 10^{-53} \\alpha_{linha}^{8} \\epsilon_{linha}^{6} + 2.31142966501262 \\cdot 10^{-49} \\alpha_{linha}^{8} \\epsilon_{linha}^{5} - 4.35718316334367 \\cdot 10^{-33} \\alpha_{linha}^{8} \\epsilon_{linha}^{4} - 4.7919836067389 \\cdot 10^{-30} \\alpha_{linha}^{8} \\epsilon_{linha}^{3} + 2.33521642550613 \\cdot 10^{-15} \\alpha_{linha}^{8} \\epsilon_{linha}^{2} + 5.00617460363866 \\cdot 10^{-32} \\alpha_{linha}^{8} \\epsilon_{linha} - 3.77167810041362 \\cdot 10^{-34} \\alpha_{linha}^{8} + 3.25298341140891 \\cdot 10^{-54} \\alpha_{linha}^{7} \\epsilon_{linha}^{7} - 5.22770425221444 \\cdot 10^{-50} \\alpha_{linha}^{7} \\epsilon_{linha}^{6} + 1.82348544463621 \\cdot 10^{-33} \\alpha_{linha}^{7} \\epsilon_{linha}^{5} + 2.28226382152615 \\cdot 10^{-30} \\alpha_{linha}^{7} \\epsilon_{linha}^{4} - 1.36542061269381 \\cdot 10^{-14} \\alpha_{linha}^{7} \\epsilon_{linha}^{3} + 6.00322841554272 \\cdot 10^{-13} \\alpha_{linha}^{7} \\epsilon_{linha}^{2} + 9.86435411301277 \\cdot 10^{-16} \\alpha_{linha}^{7} \\epsilon_{linha} - 3.07424789921958 \\cdot 10^{-54} \\alpha_{linha}^{6} \\epsilon_{linha}^{8} + 2.25674014531935 \\cdot 10^{-51} \\alpha_{linha}^{6} \\epsilon_{linha}^{7} + 4.01839185001094 \\cdot 10^{-35} \\alpha_{linha}^{6} \\epsilon_{linha}^{6} - 2.37215864190086 \\cdot 10^{-31} \\alpha_{linha}^{6} \\epsilon_{linha}^{5} + 8.14168589783108 \\cdot 10^{-15} \\alpha_{linha}^{6} \\epsilon_{linha}^{4} - 6.36390299418854 \\cdot 10^{-12} \\alpha_{linha}^{6} \\epsilon_{linha}^{3} + 3.85869211326231 \\cdot 10^{-11} \\alpha_{linha}^{6} \\epsilon_{linha}^{2} + 1.26792984482643 \\cdot 10^{-13} \\alpha_{linha}^{6} \\epsilon_{linha} + 1.04171253008635 \\cdot 10^{-16} \\alpha_{linha}^{6} + 3.61167476244266 \\cdot 10^{-55} \\alpha_{linha}^{5} \\epsilon_{linha}^{9} + 1.4970434074012 \\cdot 10^{-51} \\alpha_{linha}^{5} \\epsilon_{linha}^{8} - 1.17377067604855 \\cdot 10^{-34} \\alpha_{linha}^{5} \\epsilon_{linha}^{7} - 2.29023822654676 \\cdot 10^{-32} \\alpha_{linha}^{5} \\epsilon_{linha}^{6} - 1.23647794117645 \\cdot 10^{-15} \\alpha_{linha}^{5} \\epsilon_{linha}^{5} + 4.49922612039038 \\cdot 10^{-12} \\alpha_{linha}^{5} \\epsilon_{linha}^{4} - 9.58813509391155 \\cdot 10^{-10} \\alpha_{linha}^{5} \\epsilon_{linha}^{3} + 5.79015184516497 \\cdot 10^{-13} \\alpha_{linha}^{5} \\epsilon_{linha}^{2} + 3.08508128182918 \\cdot 10^{-15} \\alpha_{linha}^{5} \\epsilon_{linha} + 3.44331097470752 \\cdot 10^{-56} \\alpha_{linha}^{4} \\epsilon_{linha}^{10} - 3.48864941003513 \\cdot 10^{-52} \\alpha_{linha}^{4} \\epsilon_{linha}^{9} + 1.04614347546413 \\cdot 10^{-35} \\alpha_{linha}^{4} \\epsilon_{linha}^{8} - 2.5650104754513 \\cdot 10^{-33} \\alpha_{linha}^{4} \\epsilon_{linha}^{7} - 1.78941798794099 \\cdot 10^{-16} \\alpha_{linha}^{4} \\epsilon_{linha}^{6} - 1.07885799557895 \\cdot 10^{-12} \\alpha_{linha}^{4} \\epsilon_{linha}^{5} + 7.52610978646752 \\cdot 10^{-10} \\alpha_{linha}^{4} \\epsilon_{linha}^{4} - 4.71160848650498 \\cdot 10^{-8} \\alpha_{linha}^{4} \\epsilon_{linha}^{3} - 1.07435894158936 \\cdot 10^{-11} \\alpha_{linha}^{4} \\epsilon_{linha}^{2} + 2.87801817377175 \\cdot 10^{-13} \\alpha_{linha}^{4} \\epsilon_{linha} + 2.93081905938973 \\cdot 10^{-16} \\alpha_{linha}^{4} - 9.80495510432598 \\cdot 10^{-57} \\alpha_{linha}^{3} \\epsilon_{linha}^{11} + 3.21093142416222 \\cdot 10^{-53} \\alpha_{linha}^{3} \\epsilon_{linha}^{10} + 1.81610380405092 \\cdot 10^{-36} \\alpha_{linha}^{3} \\epsilon_{linha}^{9} + 9.85722115574954 \\cdot 10^{-34} \\alpha_{linha}^{3} \\epsilon_{linha}^{8} + 6.41950939007927 \\cdot 10^{-17} \\alpha_{linha}^{3} \\epsilon_{linha}^{7} + 6.10266092389708 \\cdot 10^{-14} \\alpha_{linha}^{3} \\epsilon_{linha}^{6} - 2.15847837476806 \\cdot 10^{-10} \\alpha_{linha}^{3} \\epsilon_{linha}^{5} + 3.97008225280645 \\cdot 10^{-8} \\alpha_{linha}^{3} \\epsilon_{linha}^{4} - 3.86780181096014 \\cdot 10^{-9} \\alpha_{linha}^{3} \\epsilon_{linha}^{3} - 4.72964967425975 \\cdot 10^{-12} \\alpha_{linha}^{3} \\epsilon_{linha}^{2} + 7.02844873917711 \\cdot 10^{-16} \\alpha_{linha}^{3} \\epsilon_{linha} + 5.5063321783276 \\cdot 10^{-58} \\alpha_{linha}^{2} \\epsilon_{linha}^{12} - 1.12769683012149 \\cdot 10^{-54} \\alpha_{linha}^{2} \\epsilon_{linha}^{11} - 2.28190279468099 \\cdot 10^{-37} \\alpha_{linha}^{2} \\epsilon_{linha}^{10} + 1.74047435824164 \\cdot 10^{-34} \\alpha_{linha}^{2} \\epsilon_{linha}^{9} - 4.59689291684104 \\cdot 10^{-18} \\alpha_{linha}^{2} \\epsilon_{linha}^{8} + 1.08445440429443 \\cdot 10^{-14} \\alpha_{linha}^{2} \\epsilon_{linha}^{7} + 2.45118114726313 \\cdot 10^{-11} \\alpha_{linha}^{2} \\epsilon_{linha}^{6} - 1.25462538808927 \\cdot 10^{-8} \\alpha_{linha}^{2} \\epsilon_{linha}^{5} + 1.54977935139654 \\cdot 10^{-9} \\alpha_{linha}^{2} \\epsilon_{linha}^{4} - 1.82429481925054 \\cdot 10^{-7} \\alpha_{linha}^{2} \\epsilon_{linha}^{3} - 4.36530426141577 \\cdot 10^{-10} \\alpha_{linha}^{2} \\epsilon_{linha}^{2} - 2.32136902317708 \\cdot 10^{-13} \\alpha_{linha}^{2} \\epsilon_{linha} - 1.15849697868681 \\cdot 10^{-17} \\alpha_{linha}^{2} + 5.23479078506902 \\cdot 10^{-42} \\alpha_{linha} \\epsilon_{linha}^{11} - 2.92832258135553 \\cdot 10^{-35} \\alpha_{linha} \\epsilon_{linha}^{10} + 1.00762346890759 \\cdot 10^{-22} \\alpha_{linha} \\epsilon_{linha}^{9} - 1.17993047692751 \\cdot 10^{-15} \\alpha_{linha} \\epsilon_{linha}^{8} - 3.89017329337741 \\cdot 10^{-13} \\alpha_{linha} \\epsilon_{linha}^{7} + 1.76237230004108 \\cdot 10^{-9} \\alpha_{linha} \\epsilon_{linha}^{6} - 1.37515750028815 \\cdot 10^{-10} \\alpha_{linha} \\epsilon_{linha}^{5} + 7.68729500730527 \\cdot 10^{-8} \\alpha_{linha} \\epsilon_{linha}^{4} - 3.45877150865846 \\cdot 10^{-9} \\alpha_{linha} \\epsilon_{linha}^{3} - 4.73135299412569 \\cdot 10^{-12} \\alpha_{linha} \\epsilon_{linha}^{2} - 5.0580766793961 \\cdot 10^{-16} \\alpha_{linha} \\epsilon_{linha} + 1.29365494920932 \\cdot 10^{-20} \\epsilon_{linha}^{9} - 7.57161288343545 \\cdot 10^{-14} \\epsilon_{linha}^{8} - 9.28461194167741 \\cdot 10^{-11} \\epsilon_{linha}^{7} - 3.62742076065832 \\cdot 10^{-12} \\epsilon_{linha}^{6} - 8.09932519817341 \\cdot 10^{-9} \\epsilon_{linha}^{5} + 7.66429782658787 \\cdot 10^{-11} \\epsilon_{linha}^{4} - 1.36391130088386 \\cdot 10^{-7} \\epsilon_{linha}^{3} - 2.57349648102303 \\cdot 10^{-10} \\epsilon_{linha}^{2} - 5.03371556497819 \\cdot 10^{-14} \\epsilon_{linha} + 7.59576955189271 \\cdot 10^{-18}\\right)}{\\left(- 2.37266847659012 \\cdot 10^{-10} \\alpha_{linha}^{6} + 5.020272947993 \\cdot 10^{-7} \\alpha_{linha}^{5} \\epsilon_{linha} - 4.23060592157734 \\cdot 10^{-7} \\alpha_{linha}^{4} \\epsilon_{linha}^{2} + 6.4415134844279 \\cdot 10^{-5} \\alpha_{linha}^{4} \\epsilon_{linha} + 2.01033347573669 \\cdot 10^{-7} \\alpha_{linha}^{4} + 1.33717542223779 \\cdot 10^{-7} \\alpha_{linha}^{3} \\epsilon_{linha}^{3} - 5.42950817292113 \\cdot 10^{-5} \\alpha_{linha}^{3} \\epsilon_{linha}^{2} + 2.25547596499645 \\cdot 10^{-6} \\alpha_{linha}^{3} \\epsilon_{linha} - 1.87857151223554 \\cdot 10^{-8} \\alpha_{linha}^{2} \\epsilon_{linha}^{4} + 1.71618590128797 \\cdot 10^{-5} \\alpha_{linha}^{2} \\epsilon_{linha}^{3} - 1.06987269522325 \\cdot 10^{-6} \\alpha_{linha}^{2} \\epsilon_{linha}^{2} + 0.000249514224875148 \\alpha_{linha}^{2} \\epsilon_{linha} + 8.6241760139561 \\cdot 10^{-7} \\alpha_{linha}^{2} + 9.89868828795279 \\cdot 10^{-10} \\alpha_{linha} \\epsilon_{linha}^{5} - 2.41093582531006 \\cdot 10^{-6} \\alpha_{linha} \\epsilon_{linha}^{4} + 1.42911351142894 \\cdot 10^{-7} \\alpha_{linha} \\epsilon_{linha}^{3} - 0.000105156926745145 \\alpha_{linha} \\epsilon_{linha}^{2} + 2.46734431528692 \\cdot 10^{-6} \\alpha_{linha} \\epsilon_{linha} - 2.07736369717799 \\cdot 10^{-14} \\epsilon_{linha}^{6} + 1.27010094362473 \\cdot 10^{-7} \\epsilon_{linha}^{5} - 4.10871911693494 \\cdot 10^{-9} \\epsilon_{linha}^{4} + 1.10795078397003 \\cdot 10^{-5} \\epsilon_{linha}^{3} - 2.51995985671742 \\cdot 10^{-7} \\epsilon_{linha}^{2} + 0.00018657339505707 \\epsilon_{linha} + 8.16228231717957 \\cdot 10^{-7}\\right) \\left(- 8.45530899790074 \\cdot 10^{-28} \\alpha_{linha}^{6} \\epsilon_{linha}^{2} - 8.65823641385035 \\cdot 10^{-25} \\alpha_{linha}^{6} \\epsilon_{linha} + 1.06714508204966 \\cdot 10^{-27} \\alpha_{linha}^{6} + 5.54155236134102 \\cdot 10^{-28} \\alpha_{linha}^{5} \\epsilon_{linha}^{3} + 8.92138827320709 \\cdot 10^{-25} \\alpha_{linha}^{5} \\epsilon_{linha}^{2} - 3.05824319106739 \\cdot 10^{-9} \\alpha_{linha}^{5} \\epsilon_{linha} - 9.16415119230036 \\cdot 10^{-29} \\alpha_{linha}^{4} \\epsilon_{linha}^{4} - 3.67514743669536 \\cdot 10^{-25} \\alpha_{linha}^{4} \\epsilon_{linha}^{3} + 1.65929179571615 \\cdot 10^{-8} \\alpha_{linha}^{4} \\epsilon_{linha}^{2} - 3.93556161613286 \\cdot 10^{-7} \\alpha_{linha}^{4} \\epsilon_{linha} - 6.47411171520496 \\cdot 10^{-10} \\alpha_{linha}^{4} - 1.05917600951942 \\cdot 10^{-29} \\alpha_{linha}^{3} \\epsilon_{linha}^{5} + 7.56582223897758 \\cdot 10^{-26} \\alpha_{linha}^{3} \\epsilon_{linha}^{4} - 3.53367604088873 \\cdot 10^{-9} \\alpha_{linha}^{3} \\epsilon_{linha}^{3} + 5.87263710760575 \\cdot 10^{-6} \\alpha_{linha}^{3} \\epsilon_{linha}^{2} - 2.05200033730809 \\cdot 10^{-9} \\alpha_{linha}^{3} \\epsilon_{linha} + 4.26656995466045 \\cdot 10^{-30} \\alpha_{linha}^{2} \\epsilon_{linha}^{6} - 7.78333112623339 \\cdot 10^{-27} \\alpha_{linha}^{2} \\epsilon_{linha}^{5} - 6.06738270811726 \\cdot 10^{-10} \\alpha_{linha}^{2} \\epsilon_{linha}^{4} - 2.03086797784415 \\cdot 10^{-6} \\alpha_{linha}^{2} \\epsilon_{linha}^{3} + 0.000480370726049501 \\alpha_{linha}^{2} \\epsilon_{linha}^{2} + 4.4716520310171 \\cdot 10^{-7} \\alpha_{linha}^{2} \\epsilon_{linha} + 3.09299214691593 \\cdot 10^{-11} \\alpha_{linha}^{2} - 3.12594313903298 \\cdot 10^{-31} \\alpha_{linha} \\epsilon_{linha}^{7} + 3.20096577436977 \\cdot 10^{-28} \\alpha_{linha} \\epsilon_{linha}^{6} + 1.35548197789291 \\cdot 10^{-10} \\alpha_{linha} \\epsilon_{linha}^{5} + 8.83212469388416 \\cdot 10^{-8} \\alpha_{linha} \\epsilon_{linha}^{4} - 0.000202435222295708 \\alpha_{linha} \\epsilon_{linha}^{3} + 9.01087560302269 \\cdot 10^{-6} \\alpha_{linha} \\epsilon_{linha}^{2} + 1.17452682112409 \\cdot 10^{-9} \\alpha_{linha} \\epsilon_{linha} - 2.97178917088682 \\cdot 10^{-15} \\epsilon_{linha}^{6} + 1.73935385113346 \\cdot 10^{-8} \\epsilon_{linha}^{5} + 2.13286182355601 \\cdot 10^{-5} \\epsilon_{linha}^{4} - 3.22484896127272 \\cdot 10^{-7} \\epsilon_{linha}^{3} + 0.000486247561649126 \\epsilon_{linha}^{2} + 1.19389112787205 \\cdot 10^{-7} \\epsilon_{linha} - 1.64987187439351 \\cdot 10^{-11}\\right)} & 0 & 0 & 0\\\\0 & 0 & 0 & 0\\\\\\text{NaN} & \\text{NaN} & \\text{NaN} & 0\\end{matrix}\\right]$"
      ],
      "text/plain": [
       "Matrix([\n",
       "[                                                                                                                                                                                                                                                                                                                                                                                                                                                                                                                                                                                                                                                                                                                                                                                                                                                                                                                                                                                                                                                                                                                                                                                                                                                                                                                                                                                                                                                                                                                                                                                                                                                                                                                                                                                                                                                                                                                                                                                                                                                                                                                                                                                                                                                                                                                                                                                                                                                                                                                                                                                                                                                                                                                                                                                                                                                                                                                                                                                                                                                                                                                                                                                                                                                                                                                                                                                                                                                                                                                                                                                                                                                                                                                                                                                                                                                                                                                                                                                                                                                                                                                                                                                                                                                                                                                                                                                                                                                                                                                                                                                                                                                                                                                                                                                                                                                                                                                                                                                                                                                                                                                                                                                                                                                                                                                                                                                                                                                                                                                                                                                                                                                                                                                                                                                                                                                                                                                                                                                                                                                                                                                                                                                                                                                                                                                                                                                                                                                                                                                                                                                                                                                                                                                                                                                                                                                                                                                                                                                                                                                                                                                                                                                                                                                                                                                                                                                                                                                                                                                                                                                                                                                                                                                                                                                                                                                                                                                                                                                                                                                                                                                                                                                                                                                                                                                                                                                                                                                                                                                                                                                                                                                                                                                                                                                                                                                                                                                                1.0,                                                                                                                                                                                                                                                                                                                                                                                                                                                                                                                                                                                                                                                                                                                                                                                                                                                                                                                                                        1.48555213437681e-5*alpha_linha**2 - 0.0314199236077218*alpha_linha*epsilon_linha + 6.59649225503965e-7*epsilon_linha**2 - 4.03309783891985*epsilon_linha - 0.0126719149803521, 5.29395592033938e-23*alpha_linha**2*epsilon_linha**2 + 5.42101086242752e-20*alpha_linha**2*epsilon_linha - 7.94093388050907e-23*alpha_linha**2 + 9.92616735063633e-24*alpha_linha*epsilon_linha**3 - 1.01643953670516e-20*alpha_linha*epsilon_linha**2 + 0.000191064735730922*alpha_linha*epsilon_linha + 0.0245301790406917*epsilon_linha + 4.0261793548826e-5, 0],\n",
       "[                                                                                                                                                                                                                                                                                                                                                                                                                                                                                                                                                                                                                                                                                                                                                                                                                                                                                                                                                                                                                                                                                                                                                                                                                                                                                                                                                                                                                                                                                                                                                                                                                                                                                                                                                                                                                                                                                                                                                                                                                                                                                                                                                                                                                                                                                                                                                                                                                                                                                                                                                                                                                                                                                                                                                                                                                                                                                                                                                                                                                                                                                                                                                                                                                                                                                                                                                                                                                                                                                                                                                                                                                                                                                                                                                                                                                                                                                                                                                                                                                                                                                                                                                                                                                                                                                                                                                                                                                                                                                                                                                                                                                                                                                                                                                                                                                                                                                                                                                                                                                                                                                                                                                                                                                                                                                                                                                                                                                                                                                                                                                                                                                                                                                                                                                                                                                                                                                                                                                                                                                                                                                                                                                                                                                                                                                                                                                                                                                                                                                                                                                                                                                                                                                                                                                                                                                                                                                                                                                                                                                                                                                                                                                                                                                                                                                                                                                                                                                                                                                                                                                                                                                                                                                                                                                                                                                                                                                                                                                                                                                                                                                                                                                                                                                                                                                                                                                                                                                                                                                                                                                                                                                                                                                                                                                                                     0.0039964518169993*alpha_linha**2 - 0.00168429111074122*alpha_linha*epsilon_linha + 0.000177459698979425*epsilon_linha**2 + 0.0114347965906679,                                                                                                                                                                                                                                                                                                                                                                                                                                                                                                                                                                                                                                                                                                                                                                                                                                                                                                                                                   -3.3881317890172e-21*alpha_linha**2 - 0.00011164805242729*alpha_linha*epsilon_linha - 2.53866384789675e-5*epsilon_linha**2 - 0.0298013688584842*epsilon_linha - 7.35196813385181e-5,                                                                                                                                                                                                                                                                                                                                                               0, 0],\n",
       "[                                                                                                                                                                                                                                                                                                                                                                                                                                                                                                                                                                                                                                                                                                                                                                                                                                                                                                                                                                                                                                                                                                                                                                                                                                                                                                                                                                                                                                                                                                                                                                                                                                                                                                                                                                                                                                                                                                                                                                                                                                                                                                                                                                                                                                                                                                                                                                                                                                                                                                                                                                                                                                                                                                                                                                                                                                                                                                                                                                                                                                                                                                                                                                                                                                                                                                                                                                                                                                                                                                                                                                                                                                                                                                                                                                                                                                                                                                                                                                                                                                                                                                                                                                                                                                                                                                                                                                                                                                                                                                                                                                                                                                                                                                                                                                                                                                                                                                                                                                                                                                                                                                                                                                                                                                                                                                                                                                                                                                                                                                                                                                                                                                                                                                                                                                                                                                                                                                                                                                                                                                                                                                                                                                                                                                                                                                                                                                                                                                                                                                                                                                                                                                                                                                                                                                                                                                                                                                                                                                                                                                                                                                                                                                                                                                                                                                                                                                                                                                                                                                                                                                                                                                                                                                                                                                                                                                                                                                                                                                                                                                                                                                                                                                                                      (5.93693752667738e-8*alpha_linha**4 - 0.000125593231814604*alpha_linha**3*epsilon_linha + 5.29255705453457e-5*alpha_linha**2*epsilon_linha**2 - 0.0161180811864872*alpha_linha**2*epsilon_linha - 5.04728277832744e-5*alpha_linha**2 - 5.57688122670956e-6*alpha_linha*epsilon_linha**3 + 0.00679291083884232*alpha_linha*epsilon_linha**2 - 0.000226289189163857*alpha_linha*epsilon_linha + 1.17061152989944e-10*epsilon_linha**4 - 0.000715712328449285*epsilon_linha**3 + 2.31454272157762e-5*epsilon_linha**2 - 0.0163162845598264*epsilon_linha - 7.13810888760447e-5)/(0.0039964518169993*alpha_linha**2 - 0.00168429111074122*alpha_linha*epsilon_linha + 0.000177459698979425*epsilon_linha**2 + 0.0114347965906679), (2.11570397569545e-25*alpha_linha**4*epsilon_linha**2 + 2.16648087111214e-22*alpha_linha**4*epsilon_linha - 3.17355596354318e-25*alpha_linha**4 - 4.94961794285449e-26*alpha_linha**3*epsilon_linha**3 - 1.31927120401535e-22*alpha_linha**3*epsilon_linha**2 + 7.63581010276336e-7*alpha_linha**3*epsilon_linha - 7.32391719206878e-27*alpha_linha**2*epsilon_linha**4 + 2.67399103208901e-23*alpha_linha**2*epsilon_linha**3 - 3.21808635967713e-7*alpha_linha**2*epsilon_linha**2 + 9.80336785984906e-5*alpha_linha**2*epsilon_linha + 1.60904317983856e-7*alpha_linha**2 + 1.76149467006332e-27*alpha_linha*epsilon_linha**5 - 1.80377054214484e-24*alpha_linha*epsilon_linha**4 + 3.39062904883929e-8*alpha_linha*epsilon_linha**3 - 4.13159625031276e-5*alpha_linha*epsilon_linha**2 + 2.11697380775602e-6*alpha_linha*epsilon_linha + 4.35311818847255e-6*epsilon_linha**3 + 7.14484576354641e-9*epsilon_linha**2 + 0.000280497607662974*epsilon_linha + 4.60385419606289e-7)/(0.0039964518169993*alpha_linha**2 - 0.00168429111074122*alpha_linha*epsilon_linha + 0.000177459698979425*epsilon_linha**2 + 0.0114347965906679),                                                                                                                                                                                                                                                                                                                                                               0, 0],\n",
       "[                                                                                                                                                                                                                                                                                                                                                                                                                                                                                                                                                                                                                                                                                                                                                                                                                                                                                                                                                                                                                                                                                                                                                                                                                                                                                                                                                                                                                                                                                                                                                                                                                                                                                                                                                                                                                                                                                                                                                                                                                                                                                                                                                                                                                                                                                                                                                                                                                                                                                                                                                                                                                                                                                                                                                                                                                                                                                                                                                                                                                                                                                                                                                                                                                                                                                                                                                                                                                                                                                                                                                                                                                                                                                                                                                                                                                                                                                                                                                                                                                                                                                                                                                                                                                                                                                                                                                                                                                                                                                                                                                                                                                                                                                                                                                                                                                                                                                                                                                                                                                                                                                                                                                                                                                                                                                                                                                                                                                                                                                                                                                                                                                                                                                                                                                                                                                                                                                                                                                                                                                                                                                                                                                                                                                                                                                                                                                                                                                                                                          (8.45530899790074e-28*alpha_linha**6*epsilon_linha**2 + 8.65823641385035e-25*alpha_linha**6*epsilon_linha - 1.06714508204966e-27*alpha_linha**6 - 5.54155236134102e-28*alpha_linha**5*epsilon_linha**3 - 8.92138827320709e-25*alpha_linha**5*epsilon_linha**2 + 3.05824319106739e-9*alpha_linha**5*epsilon_linha + 9.16415119230036e-29*alpha_linha**4*epsilon_linha**4 + 3.67514743669536e-25*alpha_linha**4*epsilon_linha**3 - 1.65929179571615e-8*alpha_linha**4*epsilon_linha**2 + 3.93556161613286e-7*alpha_linha**4*epsilon_linha + 6.47411171520496e-10*alpha_linha**4 + 1.05917600951942e-29*alpha_linha**3*epsilon_linha**5 - 7.56582223897758e-26*alpha_linha**3*epsilon_linha**4 + 3.53367604088873e-9*alpha_linha**3*epsilon_linha**3 - 5.87263710760575e-6*alpha_linha**3*epsilon_linha**2 + 2.05200033730809e-9*alpha_linha**3*epsilon_linha - 4.26656995466045e-30*alpha_linha**2*epsilon_linha**6 + 7.78333112623339e-27*alpha_linha**2*epsilon_linha**5 + 6.06738270811726e-10*alpha_linha**2*epsilon_linha**4 + 2.03086797784415e-6*alpha_linha**2*epsilon_linha**3 - 0.000480370726049501*alpha_linha**2*epsilon_linha**2 - 4.4716520310171e-7*alpha_linha**2*epsilon_linha - 3.09299214691593e-11*alpha_linha**2 + 3.12594313903298e-31*alpha_linha*epsilon_linha**7 - 3.20096577436977e-28*alpha_linha*epsilon_linha**6 - 1.35548197789291e-10*alpha_linha*epsilon_linha**5 - 8.83212469388416e-8*alpha_linha*epsilon_linha**4 + 0.000202435222295708*alpha_linha*epsilon_linha**3 - 9.01087560302269e-6*alpha_linha*epsilon_linha**2 - 1.17452682112409e-9*alpha_linha*epsilon_linha + 2.97178917088682e-15*epsilon_linha**6 - 1.73935385113346e-8*epsilon_linha**5 - 2.13286182355601e-5*epsilon_linha**4 + 3.22484896127272e-7*epsilon_linha**3 - 0.000486247561649126*epsilon_linha**2 - 1.19389112787205e-7*epsilon_linha + 1.64987187439351e-11)/(-5.93693752667738e-8*alpha_linha**4 + 0.000125593231814604*alpha_linha**3*epsilon_linha - 5.29255705453457e-5*alpha_linha**2*epsilon_linha**2 + 0.0161180811864872*alpha_linha**2*epsilon_linha + 5.04728277832744e-5*alpha_linha**2 + 5.57688122670956e-6*alpha_linha*epsilon_linha**3 - 0.00679291083884232*alpha_linha*epsilon_linha**2 + 0.000226289189163857*alpha_linha*epsilon_linha - 1.17061152989944e-10*epsilon_linha**4 + 0.000715712328449285*epsilon_linha**3 - 2.31454272157762e-5*epsilon_linha**2 + 0.0163162845598264*epsilon_linha + 7.13810888760447e-5),                                                                                                                                                                                                                                                                                                                                                                                                                                                                                                                                                                                                                                                                                                                                                                                                                                                                                                                                                                                                                                                                                                                                     0,                                                                                                                                                                                                                                                                                                                                                               0, 0],\n",
       "[-(-5.93693752667738e-8*alpha_linha**4 + 0.000125593231814604*alpha_linha**3*epsilon_linha - 5.29255705453457e-5*alpha_linha**2*epsilon_linha**2 + 0.0161180811864872*alpha_linha**2*epsilon_linha + 5.04728277832744e-5*alpha_linha**2 + 5.57688122670956e-6*alpha_linha*epsilon_linha**3 - 0.00679291083884232*alpha_linha*epsilon_linha**2 + 0.000226289189163857*alpha_linha*epsilon_linha - 1.17061152989944e-10*epsilon_linha**4 + 0.000715712328449285*epsilon_linha**3 - 2.31454272157762e-5*epsilon_linha**2 + 0.0163162845598264*epsilon_linha + 7.13810888760447e-5)*(1.78889308625921e-52*alpha_linha**10*epsilon_linha**4 + 3.66365304065886e-49*alpha_linha**10*epsilon_linha**3 + 1.87578541571462e-46*alpha_linha**10*epsilon_linha**2 - 5.05968918745614e-49*alpha_linha**10*epsilon_linha + 3.38664463910448e-52*alpha_linha**10 - 1.59093392752526e-52*alpha_linha**9*epsilon_linha**5 - 4.6321025738188e-49*alpha_linha**9*epsilon_linha**4 + 1.29266506647974e-33*alpha_linha**9*epsilon_linha**3 + 1.32368902807557e-30*alpha_linha**9*epsilon_linha**2 - 1.78540231156063e-33*alpha_linha**9*epsilon_linha + 4.06245998169874e-53*alpha_linha**8*epsilon_linha**6 + 2.31142966501262e-49*alpha_linha**8*epsilon_linha**5 - 4.35718316334367e-33*alpha_linha**8*epsilon_linha**4 - 4.7919836067389e-30*alpha_linha**8*epsilon_linha**3 + 2.33521642550613e-15*alpha_linha**8*epsilon_linha**2 + 5.00617460363866e-32*alpha_linha**8*epsilon_linha - 3.77167810041362e-34*alpha_linha**8 + 3.25298341140891e-54*alpha_linha**7*epsilon_linha**7 - 5.22770425221444e-50*alpha_linha**7*epsilon_linha**6 + 1.82348544463621e-33*alpha_linha**7*epsilon_linha**5 + 2.28226382152615e-30*alpha_linha**7*epsilon_linha**4 - 1.36542061269381e-14*alpha_linha**7*epsilon_linha**3 + 6.00322841554272e-13*alpha_linha**7*epsilon_linha**2 + 9.86435411301277e-16*alpha_linha**7*epsilon_linha - 3.07424789921958e-54*alpha_linha**6*epsilon_linha**8 + 2.25674014531935e-51*alpha_linha**6*epsilon_linha**7 + 4.01839185001094e-35*alpha_linha**6*epsilon_linha**6 - 2.37215864190086e-31*alpha_linha**6*epsilon_linha**5 + 8.14168589783108e-15*alpha_linha**6*epsilon_linha**4 - 6.36390299418854e-12*alpha_linha**6*epsilon_linha**3 + 3.85869211326231e-11*alpha_linha**6*epsilon_linha**2 + 1.26792984482643e-13*alpha_linha**6*epsilon_linha + 1.04171253008635e-16*alpha_linha**6 + 3.61167476244266e-55*alpha_linha**5*epsilon_linha**9 + 1.4970434074012e-51*alpha_linha**5*epsilon_linha**8 - 1.17377067604855e-34*alpha_linha**5*epsilon_linha**7 - 2.29023822654676e-32*alpha_linha**5*epsilon_linha**6 - 1.23647794117645e-15*alpha_linha**5*epsilon_linha**5 + 4.49922612039038e-12*alpha_linha**5*epsilon_linha**4 - 9.58813509391155e-10*alpha_linha**5*epsilon_linha**3 + 5.79015184516497e-13*alpha_linha**5*epsilon_linha**2 + 3.08508128182918e-15*alpha_linha**5*epsilon_linha + 3.44331097470752e-56*alpha_linha**4*epsilon_linha**10 - 3.48864941003513e-52*alpha_linha**4*epsilon_linha**9 + 1.04614347546413e-35*alpha_linha**4*epsilon_linha**8 - 2.5650104754513e-33*alpha_linha**4*epsilon_linha**7 - 1.78941798794099e-16*alpha_linha**4*epsilon_linha**6 - 1.07885799557895e-12*alpha_linha**4*epsilon_linha**5 + 7.52610978646752e-10*alpha_linha**4*epsilon_linha**4 - 4.71160848650498e-8*alpha_linha**4*epsilon_linha**3 - 1.07435894158936e-11*alpha_linha**4*epsilon_linha**2 + 2.87801817377175e-13*alpha_linha**4*epsilon_linha + 2.93081905938973e-16*alpha_linha**4 - 9.80495510432598e-57*alpha_linha**3*epsilon_linha**11 + 3.21093142416222e-53*alpha_linha**3*epsilon_linha**10 + 1.81610380405092e-36*alpha_linha**3*epsilon_linha**9 + 9.85722115574954e-34*alpha_linha**3*epsilon_linha**8 + 6.41950939007927e-17*alpha_linha**3*epsilon_linha**7 + 6.10266092389708e-14*alpha_linha**3*epsilon_linha**6 - 2.15847837476806e-10*alpha_linha**3*epsilon_linha**5 + 3.97008225280645e-8*alpha_linha**3*epsilon_linha**4 - 3.86780181096014e-9*alpha_linha**3*epsilon_linha**3 - 4.72964967425975e-12*alpha_linha**3*epsilon_linha**2 + 7.02844873917711e-16*alpha_linha**3*epsilon_linha + 5.5063321783276e-58*alpha_linha**2*epsilon_linha**12 - 1.12769683012149e-54*alpha_linha**2*epsilon_linha**11 - 2.28190279468099e-37*alpha_linha**2*epsilon_linha**10 + 1.74047435824164e-34*alpha_linha**2*epsilon_linha**9 - 4.59689291684104e-18*alpha_linha**2*epsilon_linha**8 + 1.08445440429443e-14*alpha_linha**2*epsilon_linha**7 + 2.45118114726313e-11*alpha_linha**2*epsilon_linha**6 - 1.25462538808927e-8*alpha_linha**2*epsilon_linha**5 + 1.54977935139654e-9*alpha_linha**2*epsilon_linha**4 - 1.82429481925054e-7*alpha_linha**2*epsilon_linha**3 - 4.36530426141577e-10*alpha_linha**2*epsilon_linha**2 - 2.32136902317708e-13*alpha_linha**2*epsilon_linha - 1.15849697868681e-17*alpha_linha**2 + 5.23479078506902e-42*alpha_linha*epsilon_linha**11 - 2.92832258135553e-35*alpha_linha*epsilon_linha**10 + 1.00762346890759e-22*alpha_linha*epsilon_linha**9 - 1.17993047692751e-15*alpha_linha*epsilon_linha**8 - 3.89017329337741e-13*alpha_linha*epsilon_linha**7 + 1.76237230004108e-9*alpha_linha*epsilon_linha**6 - 1.37515750028815e-10*alpha_linha*epsilon_linha**5 + 7.68729500730527e-8*alpha_linha*epsilon_linha**4 - 3.45877150865846e-9*alpha_linha*epsilon_linha**3 - 4.73135299412569e-12*alpha_linha*epsilon_linha**2 - 5.0580766793961e-16*alpha_linha*epsilon_linha + 1.29365494920932e-20*epsilon_linha**9 - 7.57161288343545e-14*epsilon_linha**8 - 9.28461194167741e-11*epsilon_linha**7 - 3.62742076065832e-12*epsilon_linha**6 - 8.09932519817341e-9*epsilon_linha**5 + 7.66429782658787e-11*epsilon_linha**4 - 1.36391130088386e-7*epsilon_linha**3 - 2.57349648102303e-10*epsilon_linha**2 - 5.03371556497819e-14*epsilon_linha + 7.59576955189271e-18)/((-2.37266847659012e-10*alpha_linha**6 + 5.020272947993e-7*alpha_linha**5*epsilon_linha - 4.23060592157734e-7*alpha_linha**4*epsilon_linha**2 + 6.4415134844279e-5*alpha_linha**4*epsilon_linha + 2.01033347573669e-7*alpha_linha**4 + 1.33717542223779e-7*alpha_linha**3*epsilon_linha**3 - 5.42950817292113e-5*alpha_linha**3*epsilon_linha**2 + 2.25547596499645e-6*alpha_linha**3*epsilon_linha - 1.87857151223554e-8*alpha_linha**2*epsilon_linha**4 + 1.71618590128797e-5*alpha_linha**2*epsilon_linha**3 - 1.06987269522325e-6*alpha_linha**2*epsilon_linha**2 + 0.000249514224875148*alpha_linha**2*epsilon_linha + 8.6241760139561e-7*alpha_linha**2 + 9.89868828795279e-10*alpha_linha*epsilon_linha**5 - 2.41093582531006e-6*alpha_linha*epsilon_linha**4 + 1.42911351142894e-7*alpha_linha*epsilon_linha**3 - 0.000105156926745145*alpha_linha*epsilon_linha**2 + 2.46734431528692e-6*alpha_linha*epsilon_linha - 2.07736369717799e-14*epsilon_linha**6 + 1.27010094362473e-7*epsilon_linha**5 - 4.10871911693494e-9*epsilon_linha**4 + 1.10795078397003e-5*epsilon_linha**3 - 2.51995985671742e-7*epsilon_linha**2 + 0.00018657339505707*epsilon_linha + 8.16228231717957e-7)*(-8.45530899790074e-28*alpha_linha**6*epsilon_linha**2 - 8.65823641385035e-25*alpha_linha**6*epsilon_linha + 1.06714508204966e-27*alpha_linha**6 + 5.54155236134102e-28*alpha_linha**5*epsilon_linha**3 + 8.92138827320709e-25*alpha_linha**5*epsilon_linha**2 - 3.05824319106739e-9*alpha_linha**5*epsilon_linha - 9.16415119230036e-29*alpha_linha**4*epsilon_linha**4 - 3.67514743669536e-25*alpha_linha**4*epsilon_linha**3 + 1.65929179571615e-8*alpha_linha**4*epsilon_linha**2 - 3.93556161613286e-7*alpha_linha**4*epsilon_linha - 6.47411171520496e-10*alpha_linha**4 - 1.05917600951942e-29*alpha_linha**3*epsilon_linha**5 + 7.56582223897758e-26*alpha_linha**3*epsilon_linha**4 - 3.53367604088873e-9*alpha_linha**3*epsilon_linha**3 + 5.87263710760575e-6*alpha_linha**3*epsilon_linha**2 - 2.05200033730809e-9*alpha_linha**3*epsilon_linha + 4.26656995466045e-30*alpha_linha**2*epsilon_linha**6 - 7.78333112623339e-27*alpha_linha**2*epsilon_linha**5 - 6.06738270811726e-10*alpha_linha**2*epsilon_linha**4 - 2.03086797784415e-6*alpha_linha**2*epsilon_linha**3 + 0.000480370726049501*alpha_linha**2*epsilon_linha**2 + 4.4716520310171e-7*alpha_linha**2*epsilon_linha + 3.09299214691593e-11*alpha_linha**2 - 3.12594313903298e-31*alpha_linha*epsilon_linha**7 + 3.20096577436977e-28*alpha_linha*epsilon_linha**6 + 1.35548197789291e-10*alpha_linha*epsilon_linha**5 + 8.83212469388416e-8*alpha_linha*epsilon_linha**4 - 0.000202435222295708*alpha_linha*epsilon_linha**3 + 9.01087560302269e-6*alpha_linha*epsilon_linha**2 + 1.17452682112409e-9*alpha_linha*epsilon_linha - 2.97178917088682e-15*epsilon_linha**6 + 1.73935385113346e-8*epsilon_linha**5 + 2.13286182355601e-5*epsilon_linha**4 - 3.22484896127272e-7*epsilon_linha**3 + 0.000486247561649126*epsilon_linha**2 + 1.19389112787205e-7*epsilon_linha - 1.64987187439351e-11)),                                                                                                                                                                                                                                                                                                                                                                                                                                                                                                                                                                                                                                                                                                                                                                                                                                                                                                                                                                                                                                                                                                                                     0,                                                                                                                                                                                                                                                                                                                                                               0, 0],\n",
       "[                                                                                                                                                                                                                                                                                                                                                                                                                                                                                                                                                                                                                                                                                                                                                                                                                                                                                                                                                                                                                                                                                                                                                                                                                                                                                                                                                                                                                                                                                                                                                                                                                                                                                                                                                                                                                                                                                                                                                                                                                                                                                                                                                                                                                                                                                                                                                                                                                                                                                                                                                                                                                                                                                                                                                                                                                                                                                                                                                                                                                                                                                                                                                                                                                                                                                                                                                                                                                                                                                                                                                                                                                                                                                                                                                                                                                                                                                                                                                                                                                                                                                                                                                                                                                                                                                                                                                                                                                                                                                                                                                                                                                                                                                                                                                                                                                                                                                                                                                                                                                                                                                                                                                                                                                                                                                                                                                                                                                                                                                                                                                                                                                                                                                                                                                                                                                                                                                                                                                                                                                                                                                                                                                                                                                                                                                                                                                                                                                                                                                                                                                                                                                                                                                                                                                                                                                                                                                                                                                                                                                                                                                                                                                                                                                                                                                                                                                                                                                                                                                                                                                                                                                                                                                                                                                                                                                                                                                                                                                                                                                                                                                                                                                                                                                                                                                                                                                                                                                                                                                                                                                                                                                                                                                                                                                                                                                                                                                                                                  0,                                                                                                                                                                                                                                                                                                                                                                                                                                                                                                                                                                                                                                                                                                                                                                                                                                                                                                                                                                                                                                                                                                                                     0,                                                                                                                                                                                                                                                                                                                                                               0, 0],\n",
       "[                                                                                                                                                                                                                                                                                                                                                                                                                                                                                                                                                                                                                                                                                                                                                                                                                                                                                                                                                                                                                                                                                                                                                                                                                                                                                                                                                                                                                                                                                                                                                                                                                                                                                                                                                                                                                                                                                                                                                                                                                                                                                                                                                                                                                                                                                                                                                                                                                                                                                                                                                                                                                                                                                                                                                                                                                                                                                                                                                                                                                                                                                                                                                                                                                                                                                                                                                                                                                                                                                                                                                                                                                                                                                                                                                                                                                                                                                                                                                                                                                                                                                                                                                                                                                                                                                                                                                                                                                                                                                                                                                                                                                                                                                                                                                                                                                                                                                                                                                                                                                                                                                                                                                                                                                                                                                                                                                                                                                                                                                                                                                                                                                                                                                                                                                                                                                                                                                                                                                                                                                                                                                                                                                                                                                                                                                                                                                                                                                                                                                                                                                                                                                                                                                                                                                                                                                                                                                                                                                                                                                                                                                                                                                                                                                                                                                                                                                                                                                                                                                                                                                                                                                                                                                                                                                                                                                                                                                                                                                                                                                                                                                                                                                                                                                                                                                                                                                                                                                                                                                                                                                                                                                                                                                                                                                                                                                                                                                                                                nan,                                                                                                                                                                                                                                                                                                                                                                                                                                                                                                                                                                                                                                                                                                                                                                                                                                                                                                                                                                                                                                                                                                                                   nan,                                                                                                                                                                                                                                                                                                                                                             nan, 0]])"
      ]
     },
     "execution_count": 636,
     "metadata": {},
     "output_type": "execute_result"
    }
   ],
   "source": [
    "RHm = routh(p)\n",
    "RHm"
   ]
  },
  {
   "cell_type": "code",
   "execution_count": 637,
   "metadata": {},
   "outputs": [
    {
     "data": {
      "text/latex": [
       "$\\displaystyle \\left[\\begin{matrix}1.0 & 0.010387371086653 & -9.99896863739711 \\cdot 10^{-5} & 0\\\\0.0114400080012061 & 9.68449984174697 \\cdot 10^{-5} & 0 & 0\\\\0.00192190511781283 & -9.99896863739711 \\cdot 10^{-5} & 0 & 0\\\\0.000692026728022353 & 0 & 0 & 0\\\\-9.9989686373971 \\cdot 10^{-5} & 0 & 0 & 0\\\\0 & 0 & 0 & 0\\\\0 & 0 & 0 & 0\\end{matrix}\\right]$"
      ],
      "text/plain": [
       "Matrix([\n",
       "[                 1.0,    0.010387371086653, -9.99896863739711e-5, 0],\n",
       "[  0.0114400080012061,  9.68449984174697e-5,                    0, 0],\n",
       "[ 0.00192190511781283, -9.99896863739711e-5,                    0, 0],\n",
       "[0.000692026728022353,                    0,                    0, 0],\n",
       "[ -9.9989686373971e-5,                    0,                    0, 0],\n",
       "[                   0,                    0,                    0, 0],\n",
       "[                   0,                    0,                    0, 0]])"
      ]
     },
     "execution_count": 637,
     "metadata": {},
     "output_type": "execute_result"
    }
   ],
   "source": [
    "RHm.subs({sp.nan: 0, alpha_linha: 2*np.pi/180, epsilon_linha:-0.3275*np.pi/180})"
   ]
  },
  {
   "cell_type": "code",
   "execution_count": 638,
   "metadata": {},
   "outputs": [],
   "source": [
    "# Adicionando os valores de alpha_linha e epsilon_linha que melhor estabilizam o sistema aos parametros\n",
    "params[\"alpha_linha\"] = 2*np.pi/180\n",
    "params[\"epsilon_linha\"] = -0.3275*np.pi/180\n",
    "\n",
    "A_num = A.subs(params).evalf()\n",
    "B_num = B.subs(params).evalf()\n",
    "C_num = C.subs(params).evalf()\n",
    "D_num = D.subs(params).evalf()\n",
    "E_num = E.subs(params).evalf()"
   ]
  },
  {
   "cell_type": "markdown",
   "metadata": {},
   "source": [
    "## Função de Transferência"
   ]
  },
  {
   "cell_type": "markdown",
   "metadata": {},
   "source": [
    "### Espaço de Estado"
   ]
  },
  {
   "cell_type": "code",
   "execution_count": 639,
   "metadata": {},
   "outputs": [
    {
     "data": {
      "text/latex": [
       "$$\n",
       "\\left(\\begin{array}{rllrllrllrllrllrll|rllrll}\n",
       "0\\phantom{.}&\\hspace{-1em}&\\hspace{-1em}\\phantom{\\cdot}&0\\phantom{.}&\\hspace{-1em}&\\hspace{-1em}\\phantom{\\cdot}&0\\phantom{.}&\\hspace{-1em}&\\hspace{-1em}\\phantom{\\cdot}&1\\phantom{.}&\\hspace{-1em}&\\hspace{-1em}\\phantom{\\cdot}&0\\phantom{.}&\\hspace{-1em}&\\hspace{-1em}\\phantom{\\cdot}&0\\phantom{.}&\\hspace{-1em}&\\hspace{-1em}\\phantom{\\cdot}&0\\phantom{.}&\\hspace{-1em}&\\hspace{-1em}\\phantom{\\cdot}&0\\phantom{.}&\\hspace{-1em}&\\hspace{-1em}\\phantom{\\cdot}\\\\\n",
       "0\\phantom{.}&\\hspace{-1em}&\\hspace{-1em}\\phantom{\\cdot}&0\\phantom{.}&\\hspace{-1em}&\\hspace{-1em}\\phantom{\\cdot}&0\\phantom{.}&\\hspace{-1em}&\\hspace{-1em}\\phantom{\\cdot}&0\\phantom{.}&\\hspace{-1em}&\\hspace{-1em}\\phantom{\\cdot}&1\\phantom{.}&\\hspace{-1em}&\\hspace{-1em}\\phantom{\\cdot}&0\\phantom{.}&\\hspace{-1em}&\\hspace{-1em}\\phantom{\\cdot}&0\\phantom{.}&\\hspace{-1em}&\\hspace{-1em}\\phantom{\\cdot}&0\\phantom{.}&\\hspace{-1em}&\\hspace{-1em}\\phantom{\\cdot}\\\\\n",
       "0\\phantom{.}&\\hspace{-1em}&\\hspace{-1em}\\phantom{\\cdot}&0\\phantom{.}&\\hspace{-1em}&\\hspace{-1em}\\phantom{\\cdot}&0\\phantom{.}&\\hspace{-1em}&\\hspace{-1em}\\phantom{\\cdot}&0\\phantom{.}&\\hspace{-1em}&\\hspace{-1em}\\phantom{\\cdot}&0\\phantom{.}&\\hspace{-1em}&\\hspace{-1em}\\phantom{\\cdot}&1\\phantom{.}&\\hspace{-1em}&\\hspace{-1em}\\phantom{\\cdot}&0\\phantom{.}&\\hspace{-1em}&\\hspace{-1em}\\phantom{\\cdot}&0\\phantom{.}&\\hspace{-1em}&\\hspace{-1em}\\phantom{\\cdot}\\\\\n",
       "-0.&\\hspace{-1em}0164&\\hspace{-1em}\\phantom{\\cdot}&0.&\\hspace{-1em}109&\\hspace{-1em}\\phantom{\\cdot}&5.&\\hspace{-1em}15&\\hspace{-1em}\\cdot10^{-5}&-0.&\\hspace{-1em}00405&\\hspace{-1em}\\phantom{\\cdot}&0\\phantom{.}&\\hspace{-1em}&\\hspace{-1em}\\phantom{\\cdot}&-0.&\\hspace{-1em}000144&\\hspace{-1em}\\phantom{\\cdot}&0.&\\hspace{-1em}615&\\hspace{-1em}\\phantom{\\cdot}&0.&\\hspace{-1em}615&\\hspace{-1em}\\phantom{\\cdot}\\\\\n",
       "0\\phantom{.}&\\hspace{-1em}&\\hspace{-1em}\\phantom{\\cdot}&0\\phantom{.}&\\hspace{-1em}&\\hspace{-1em}\\phantom{\\cdot}&0\\phantom{.}&\\hspace{-1em}&\\hspace{-1em}\\phantom{\\cdot}&0\\phantom{.}&\\hspace{-1em}&\\hspace{-1em}\\phantom{\\cdot}&0\\phantom{.}&\\hspace{-1em}&\\hspace{-1em}\\phantom{\\cdot}&0\\phantom{.}&\\hspace{-1em}&\\hspace{-1em}\\phantom{\\cdot}&-2.&\\hspace{-1em}99&\\hspace{-1em}\\phantom{\\cdot}&2.&\\hspace{-1em}99&\\hspace{-1em}\\phantom{\\cdot}\\\\\n",
       "0\\phantom{.}&\\hspace{-1em}&\\hspace{-1em}\\phantom{\\cdot}&3.&\\hspace{-1em}71&\\hspace{-1em}\\phantom{\\cdot}&0.&\\hspace{-1em}00608&\\hspace{-1em}\\phantom{\\cdot}&-0.&\\hspace{-1em}000133&\\hspace{-1em}\\phantom{\\cdot}&0\\phantom{.}&\\hspace{-1em}&\\hspace{-1em}\\phantom{\\cdot}&-0.&\\hspace{-1em}00739&\\hspace{-1em}\\phantom{\\cdot}&0\\phantom{.}&\\hspace{-1em}&\\hspace{-1em}\\phantom{\\cdot}&0\\phantom{.}&\\hspace{-1em}&\\hspace{-1em}\\phantom{\\cdot}\\\\\n",
       "\\hline\n",
       "1\\phantom{.}&\\hspace{-1em}&\\hspace{-1em}\\phantom{\\cdot}&0\\phantom{.}&\\hspace{-1em}&\\hspace{-1em}\\phantom{\\cdot}&0\\phantom{.}&\\hspace{-1em}&\\hspace{-1em}\\phantom{\\cdot}&0\\phantom{.}&\\hspace{-1em}&\\hspace{-1em}\\phantom{\\cdot}&0\\phantom{.}&\\hspace{-1em}&\\hspace{-1em}\\phantom{\\cdot}&0\\phantom{.}&\\hspace{-1em}&\\hspace{-1em}\\phantom{\\cdot}&0\\phantom{.}&\\hspace{-1em}&\\hspace{-1em}\\phantom{\\cdot}&0\\phantom{.}&\\hspace{-1em}&\\hspace{-1em}\\phantom{\\cdot}\\\\\n",
       "0\\phantom{.}&\\hspace{-1em}&\\hspace{-1em}\\phantom{\\cdot}&1\\phantom{.}&\\hspace{-1em}&\\hspace{-1em}\\phantom{\\cdot}&0\\phantom{.}&\\hspace{-1em}&\\hspace{-1em}\\phantom{\\cdot}&0\\phantom{.}&\\hspace{-1em}&\\hspace{-1em}\\phantom{\\cdot}&0\\phantom{.}&\\hspace{-1em}&\\hspace{-1em}\\phantom{\\cdot}&0\\phantom{.}&\\hspace{-1em}&\\hspace{-1em}\\phantom{\\cdot}&0\\phantom{.}&\\hspace{-1em}&\\hspace{-1em}\\phantom{\\cdot}&0\\phantom{.}&\\hspace{-1em}&\\hspace{-1em}\\phantom{\\cdot}\\\\\n",
       "0\\phantom{.}&\\hspace{-1em}&\\hspace{-1em}\\phantom{\\cdot}&0\\phantom{.}&\\hspace{-1em}&\\hspace{-1em}\\phantom{\\cdot}&1\\phantom{.}&\\hspace{-1em}&\\hspace{-1em}\\phantom{\\cdot}&0\\phantom{.}&\\hspace{-1em}&\\hspace{-1em}\\phantom{\\cdot}&0\\phantom{.}&\\hspace{-1em}&\\hspace{-1em}\\phantom{\\cdot}&0\\phantom{.}&\\hspace{-1em}&\\hspace{-1em}\\phantom{\\cdot}&0\\phantom{.}&\\hspace{-1em}&\\hspace{-1em}\\phantom{\\cdot}&0\\phantom{.}&\\hspace{-1em}&\\hspace{-1em}\\phantom{\\cdot}\\\\\n",
       "\\end{array}\\right)\n",
       "$$"
      ],
      "text/plain": [
       "StateSpace(array([[ 0.00000000e+00,  0.00000000e+00,  0.00000000e+00,\n",
       "         1.00000000e+00,  0.00000000e+00,  0.00000000e+00],\n",
       "       [ 0.00000000e+00,  0.00000000e+00,  0.00000000e+00,\n",
       "         0.00000000e+00,  1.00000000e+00,  0.00000000e+00],\n",
       "       [ 0.00000000e+00,  0.00000000e+00,  0.00000000e+00,\n",
       "         0.00000000e+00,  0.00000000e+00,  1.00000000e+00],\n",
       "       [-1.64396757e-02,  1.09368010e-01,  5.15082868e-05,\n",
       "        -4.05080743e-03,  0.00000000e+00, -1.44316150e-04],\n",
       "       [ 0.00000000e+00,  0.00000000e+00,  0.00000000e+00,\n",
       "         0.00000000e+00,  0.00000000e+00,  0.00000000e+00],\n",
       "       [ 0.00000000e+00,  3.70670158e+00,  6.08221769e-03,\n",
       "        -1.32600676e-04,  0.00000000e+00, -7.38920057e-03]]), array([[ 0.        ,  0.        ],\n",
       "       [ 0.        ,  0.        ],\n",
       "       [ 0.        ,  0.        ],\n",
       "       [ 0.61490616,  0.61490616],\n",
       "       [-2.99052497,  2.99052497],\n",
       "       [ 0.        ,  0.        ]]), array([[1., 0., 0., 0., 0., 0.],\n",
       "       [0., 1., 0., 0., 0., 0.],\n",
       "       [0., 0., 1., 0., 0., 0.]]), array([[0., 0.],\n",
       "       [0., 0.],\n",
       "       [0., 0.]]))"
      ]
     },
     "execution_count": 639,
     "metadata": {},
     "output_type": "execute_result"
    }
   ],
   "source": [
    "heli = ct.ss(np.array(A_num), np.array(B_num), np.array(C_num), np.array(D_num))\n",
    "heli"
   ]
  },
  {
   "cell_type": "markdown",
   "metadata": {},
   "source": [
    "### FT, Polos e Zeros"
   ]
  },
  {
   "cell_type": "code",
   "execution_count": 640,
   "metadata": {},
   "outputs": [
    {
     "data": {
      "text/latex": [
       "$$\\begin{bmatrix}\\frac{0.6149 s^4 + 0.004544 s^3 - 0.3308 s^2 - 0.000817 s + 0.001418}{s^6 + 0.01144 s^5 + 0.01039 s^4 + 9.684 \\times 10^{-5} s^3 - 9.999 \\times 10^{-5} s^2 + 2.462 \\times 10^{-19} s - 1.584 \\times 10^{-19}}&\\frac{4.441 \\times 10^{-16} s^5 + 0.6149 s^4 + 0.004544 s^3 + 0.3233 s^2 + 0.000817 s - 0.001418}{s^6 + 0.01144 s^5 + 0.01039 s^4 + 9.684 \\times 10^{-5} s^3 - 9.999 \\times 10^{-5} s^2 + 2.462 \\times 10^{-19} s - 1.584 \\times 10^{-19}}\\\\\\frac{-2.991 s^4}{s^6 - 3.979 \\times 10^{-16} s^5 - 5.551 \\times 10^{-17} s^4}&\\frac{2.991 s^4}{s^6 - 3.979 \\times 10^{-16} s^5 - 5.551 \\times 10^{-17} s^4}\\\\\\frac{-1.695 \\times 10^{-16} s^4 - 8.154 \\times 10^{-5} s^3 - 11.08 s^2 - 0.04486 s - 0.1822}{s^6 + 0.01144 s^5 + 0.01039 s^4 + 9.684 \\times 10^{-5} s^3 - 9.999 \\times 10^{-5} s^2 - 7.253 \\times 10^{-18} s - 1.373 \\times 10^{-19}}&\\frac{2.22 \\times 10^{-16} s^4 - 8.154 \\times 10^{-5} s^3 + 11.08 s^2 + 0.04486 s + 0.1822}{s^6 + 0.01144 s^5 + 0.01039 s^4 + 9.684 \\times 10^{-5} s^3 - 9.999 \\times 10^{-5} s^2 - 7.253 \\times 10^{-18} s - 1.373 \\times 10^{-19}}\\\\ \\end{bmatrix}$$"
      ],
      "text/plain": [
       "TransferFunction([[array([ 0.61490616,  0.00454366, -0.33080776, -0.00081703,  0.00141833]), array([ 4.44089210e-16,  6.14906163e-01,  4.54366497e-03,  3.23327771e-01,\n",
       "        8.17027152e-04, -1.41832883e-03])], [array([-2.99052497,  0.        ,  0.        ,  0.        ,  0.        ]), array([2.99052497, 0.        , 0.        , 0.        , 0.        ])], [array([-1.69481128e-16, -8.15369727e-05, -1.10849836e+01, -4.48597646e-02,\n",
       "       -1.82233536e-01]), array([ 2.22044605e-16, -8.15369727e-05,  1.10849836e+01,  4.48597646e-02,\n",
       "        1.82233536e-01])]], [[array([ 1.00000000e+00,  1.14400080e-02,  1.03873711e-02,  9.68449984e-05,\n",
       "       -9.99896864e-05,  2.46213954e-19, -1.58359524e-19]), array([ 1.00000000e+00,  1.14400080e-02,  1.03873711e-02,  9.68449984e-05,\n",
       "       -9.99896864e-05,  2.46213954e-19, -1.58359524e-19])], [array([ 1.00000000e+00, -3.97854023e-16, -5.55111512e-17,  0.00000000e+00,\n",
       "        0.00000000e+00,  0.00000000e+00,  0.00000000e+00]), array([ 1.00000000e+00, -3.97854023e-16, -5.55111512e-17,  0.00000000e+00,\n",
       "        0.00000000e+00,  0.00000000e+00,  0.00000000e+00])], [array([ 1.00000000e+00,  1.14400080e-02,  1.03873711e-02,  9.68449984e-05,\n",
       "       -9.99896864e-05, -7.25311649e-18, -1.37344775e-19]), array([ 1.00000000e+00,  1.14400080e-02,  1.03873711e-02,  9.68449984e-05,\n",
       "       -9.99896864e-05, -7.25311649e-18, -1.37344775e-19])]])"
      ]
     },
     "execution_count": 640,
     "metadata": {},
     "output_type": "execute_result"
    }
   ],
   "source": [
    "G = ct.ss2tf(heli)\n",
    "G"
   ]
  },
  {
   "cell_type": "code",
   "execution_count": 641,
   "metadata": {},
   "outputs": [
    {
     "data": {
      "text/plain": [
       "array([-0.00202525+0.12820125j, -0.00202525-0.12820125j,\n",
       "       -0.08177083+0.j        ,  0.07438132+0.j        ,\n",
       "        0.        +0.j        ,  0.        +0.j        ])"
      ]
     },
     "execution_count": 641,
     "metadata": {},
     "output_type": "execute_result"
    }
   ],
   "source": [
    "poles_MA = np.linalg.eigvals(np.array(A_num).astype(np.float64))\n",
    "poles_MA"
   ]
  },
  {
   "cell_type": "code",
   "execution_count": 642,
   "metadata": {},
   "outputs": [
    {
     "data": {
      "text/plain": [
       "[(-1384645582978126.2+0j),\n",
       " (-481097514837.3304+0j),\n",
       " (-135950.42919575382+0j),\n",
       " (-0.7330017162389033+0j),\n",
       " (-0.06724558881680018+0j),\n",
       " (-0.06697894048333121+0j),\n",
       " (-0.002421600833183551-0.7281133220299789j),\n",
       " (-0.002421600833183551+0.7281133220299789j),\n",
       " (-0.002023507893085822-0.12820132844753562j),\n",
       " (-0.002023507893085822+0.12820132844753562j),\n",
       " (-0.002023387089456435-0.12820133417139898j),\n",
       " (-0.002023387089456435+0.12820133417139898j),\n",
       " 0j,\n",
       " (0.06452920344258703+0j),\n",
       " (0.06469958991623434+0j),\n",
       " (0.728062252707598+0j),\n",
       " (135950.4492009656+0j),\n",
       " (367209743937.32074+0j)]"
      ]
     },
     "execution_count": 642,
     "metadata": {},
     "output_type": "execute_result"
    }
   ],
   "source": [
    "zeros = []\n",
    "\n",
    "for i in range(G.noutputs):\n",
    "    for j in range(G.ninputs):\n",
    "        tf_ij = G[i, j]\n",
    "        z_ij = ct.zeros(tf_ij)\n",
    "        zeros.extend(z_ij)\n",
    "zeros = sorted(set(zeros))\n",
    "\n",
    "zeros"
   ]
  },
  {
   "cell_type": "code",
   "execution_count": 643,
   "metadata": {},
   "outputs": [
    {
     "name": "stderr",
     "output_type": "stream",
     "text": [
      "/Users/mariasantos/Library/Python/3.10/lib/python/site-packages/control/xferfcn.py:419: RuntimeWarning: invalid value encountered in divide\n",
      "  out[i][j] = (polyval(self.num[i][j], x_arr) /\n"
     ]
    },
    {
     "data": {
      "text/plain": [
       "array([-1.38464558e+15+0.j, -4.81097515e+11+0.j, -1.35950429e+05+0.j,\n",
       "        1.35950449e+05+0.j,  3.67209744e+11+0.j])"
      ]
     },
     "execution_count": 643,
     "metadata": {},
     "output_type": "execute_result"
    }
   ],
   "source": [
    "def evaluate_G_matrix(G, s_val):\n",
    "    G_eval = np.empty((G.noutputs, G.ninputs), dtype=complex)\n",
    "    for i in range(G.noutputs):\n",
    "        for j in range(G.ninputs):\n",
    "            try:\n",
    "                val = G[i, j](s_val)\n",
    "                # Convert to float if possible\n",
    "                val = complex(val)\n",
    "            except Exception:\n",
    "                val = np.nan\n",
    "            G_eval[i, j] = val\n",
    "    return G_eval\n",
    "\n",
    "def normal_rank(G, s_val, tol=1e-9):\n",
    "    G_eval = evaluate_G_matrix(G, s_val)\n",
    "    # Replace NaNs and Infs with zeros or something safe\n",
    "    G_eval = np.where(np.isfinite(G_eval), G_eval, 0)\n",
    "    rank = np.linalg.matrix_rank(G_eval, tol=tol)\n",
    "    return rank\n",
    "\n",
    "full_rank = normal_rank(G, 1j)\n",
    "\n",
    "zeros_MA = []\n",
    "for z in zeros:\n",
    "    rank_at_z = normal_rank(G, z)\n",
    "    if rank_at_z < full_rank:\n",
    "        zeros_MA.append(z)\n",
    "zeros_MA = np.array(zeros_MA)\n",
    "zeros_MA\n"
   ]
  },
  {
   "cell_type": "markdown",
   "metadata": {},
   "source": [
    "## Controlabilidade e Observabilidade"
   ]
  },
  {
   "cell_type": "code",
   "execution_count": 644,
   "metadata": {},
   "outputs": [
    {
     "data": {
      "text/latex": [
       "$\\displaystyle \\left[\\begin{array}{cccccccccccc}0 & 0 & 0.614906162867136 & 0.614906162867136 & -0.00249086645277544 & -0.00249086645277544 & -0.337166520384773 & 0.316969008165881 & 0.00300648350700895 & -0.00284277787001534 & 0.00494793389902186 & -0.00461655663370969\\\\0 & 0 & -2.99052496798976 & 2.99052496798976 & 0 & 0 & 0 & 0 & 0 & 0 & 0 & 0\\\\0 & 0 & 0 & 0 & -8.1536972703105 \\cdot 10^{-5} & -8.1536972703105 \\cdot 10^{-5} & -11.0849826989195 & 11.0849845644867 & 0.0819533730828477 & -0.0819517005153663 & -0.0680272464908027 & 0.0680272237711742\\\\0.614906162867136 & 0.614906162867136 & -0.00249086645277544 & -0.00249086645277544 & -0.337166520384773 & 0.316969008165881 & 0.00300648350700895 & -0.00284277787001534 & 0.00494793389902186 & -0.00461655663370969 & -5.54300330697782 \\cdot 10^{-5} & 5.13965094308102 \\cdot 10^{-5}\\\\-2.99052496798976 & 2.99052496798976 & 0 & 0 & 0 & 0 & 0 & 0 & 0 & 0 & 0 & 0\\\\0 & 0 & -8.1536972703105 \\cdot 10^{-5} & -8.1536972703105 \\cdot 10^{-5} & -11.0849826989195 & 11.0849845644867 & 0.0819533730828477 & -0.0819517005153663 & -0.0680272464908027 & 0.0680272237711742 & 0.00100046912521855 & -0.00100050272526843\\end{array}\\right]$"
      ],
      "text/plain": [
       "Matrix([\n",
       "[                0,                 0,    0.614906162867136,    0.614906162867136, -0.00249086645277544, -0.00249086645277544,  -0.337166520384773,    0.316969008165881, 0.00300648350700895, -0.00284277787001534,  0.00494793389902186, -0.00461655663370969],\n",
       "[                0,                 0,    -2.99052496798976,     2.99052496798976,                    0,                    0,                   0,                    0,                   0,                    0,                    0,                    0],\n",
       "[                0,                 0,                    0,                    0,  -8.1536972703105e-5,  -8.1536972703105e-5,   -11.0849826989195,     11.0849845644867,  0.0819533730828477,  -0.0819517005153663,  -0.0680272464908027,   0.0680272237711742],\n",
       "[0.614906162867136, 0.614906162867136, -0.00249086645277544, -0.00249086645277544,   -0.337166520384773,    0.316969008165881, 0.00300648350700895, -0.00284277787001534, 0.00494793389902186, -0.00461655663370969, -5.54300330697782e-5,  5.13965094308102e-5],\n",
       "[-2.99052496798976,  2.99052496798976,                    0,                    0,                    0,                    0,                   0,                    0,                   0,                    0,                    0,                    0],\n",
       "[                0,                 0,  -8.1536972703105e-5,  -8.1536972703105e-5,    -11.0849826989195,     11.0849845644867,  0.0819533730828477,  -0.0819517005153663, -0.0680272464908027,   0.0680272237711742,  0.00100046912521855, -0.00100050272526843]])"
      ]
     },
     "execution_count": 644,
     "metadata": {},
     "output_type": "execute_result"
    }
   ],
   "source": [
    "# Tamanho do sistema\n",
    "n = A_num.shape[0]\n",
    "\n",
    "# Matriz de controlabilidade\n",
    "Q = B_num\n",
    "for i in range(1, n):\n",
    "    Q = Q.row_join((A_num**i) * B_num)\n",
    "Q"
   ]
  },
  {
   "cell_type": "code",
   "execution_count": 645,
   "metadata": {},
   "outputs": [
    {
     "name": "stdout",
     "output_type": "stream",
     "text": [
      "O sistema é controlável? True\n"
     ]
    }
   ],
   "source": [
    "print(\"O sistema é controlável?\", Q.rank()==n)"
   ]
  },
  {
   "cell_type": "code",
   "execution_count": 646,
   "metadata": {},
   "outputs": [
    {
     "data": {
      "text/latex": [
       "$\\displaystyle \\left[\\begin{array}{cccccccccccccccccc}1 & 0 & 0 & 0 & 0 & 0 & -0.0164396756892878 & 0 & 0 & 6.65939604150671 \\cdot 10^{-5} & 0 & 2.17991210508487 \\cdot 10^{-6} & 0.000269992862862851 & 0 & -2.49382119240969 \\cdot 10^{-8} & -2.18835632426795 \\cdot 10^{-6} & 0 & -2.2358262627856 \\cdot 10^{-8}\\\\0 & 1 & 0 & 0 & 0 & 0 & 0.109368009889977 & 0 & 3.70670158261694 & -0.000977965648110971 & 0 & -0.0274040637267094 & -0.00159913236557273 & 0 & 0.0227475897573651 & 1.78608344093508 \\cdot 10^{-5} & 0 & -0.000334551938523362\\\\0 & 0 & 1 & 0 & 0 & 0 & 5.15082868326662 \\cdot 10^{-5} & 0 & 0.00608221769478854 & -1.08641239137485 \\cdot 10^{-6} & 0 & -4.49495565033096 \\cdot 10^{-5} & -5.2260712291873 \\cdot 10^{-7} & 0 & 3.73256574344437 \\cdot 10^{-5} & 1.22752783732301 \\cdot 10^{-8} & 0 & -5.49130459146461 \\cdot 10^{-7}\\\\0 & 0 & 0 & 1.0 & 0 & 0 & -0.00405080742915508 & 0 & -0.000132600675724115 & -0.0164232475120407 & 0 & 1.51695279124921 \\cdot 10^{-6} & 0.000133114324493268 & 0 & 1.36001847301798 \\cdot 10^{-6} & 0.000269453524231277 & 0 & -1.84740615460961 \\cdot 10^{-8}\\\\0 & 0 & 0 & 0 & 1.0 & 0 & 0 & 0 & 0 & 0.109368009889977 & 0 & 3.70670158261694 & -0.000977965648110971 & 0 & -0.0274040637267094 & -0.00159913236557273 & 0 & 0.0227475897573651\\\\0 & 0 & 0 & 0 & 0 & 1.0 & -0.000144316149874433 & 0 & -0.007389200572051 & 5.3159264741933 \\cdot 10^{-5} & 0 & 0.00613683711630153 & 8.90922988556828 \\cdot 10^{-7} & 0 & -9.02960957544551 \\cdot 10^{-5} & -5.48400878379432 \\cdot 10^{-7} & 0 & 3.79926771242167 \\cdot 10^{-5}\\end{array}\\right]$"
      ],
      "text/plain": [
       "Matrix([\n",
       "[1, 0, 0,   0,   0,   0,   -0.0164396756892878, 0,                     0,   6.65939604150671e-5, 0,  2.17991210508487e-6,  0.000269992862862851, 0, -2.49382119240969e-8, -2.18835632426795e-6, 0,   -2.2358262627856e-8],\n",
       "[0, 1, 0,   0,   0,   0,     0.109368009889977, 0,      3.70670158261694, -0.000977965648110971, 0,  -0.0274040637267094,  -0.00159913236557273, 0,   0.0227475897573651,  1.78608344093508e-5, 0, -0.000334551938523362],\n",
       "[0, 0, 1,   0,   0,   0,   5.15082868326662e-5, 0,   0.00608221769478854,  -1.08641239137485e-6, 0, -4.49495565033096e-5,   -5.2260712291873e-7, 0,  3.73256574344437e-5,  1.22752783732301e-8, 0,  -5.49130459146461e-7],\n",
       "[0, 0, 0, 1.0,   0,   0,  -0.00405080742915508, 0, -0.000132600675724115,   -0.0164232475120407, 0,  1.51695279124921e-6,  0.000133114324493268, 0,  1.36001847301798e-6, 0.000269453524231277, 0,  -1.84740615460961e-8],\n",
       "[0, 0, 0,   0, 1.0,   0,                     0, 0,                     0,     0.109368009889977, 0,     3.70670158261694, -0.000977965648110971, 0,  -0.0274040637267094, -0.00159913236557273, 0,    0.0227475897573651],\n",
       "[0, 0, 0,   0,   0, 1.0, -0.000144316149874433, 0,    -0.007389200572051,    5.3159264741933e-5, 0,  0.00613683711630153,   8.90922988556828e-7, 0, -9.02960957544551e-5, -5.48400878379432e-7, 0,   3.79926771242167e-5]])"
      ]
     },
     "execution_count": 646,
     "metadata": {},
     "output_type": "execute_result"
    }
   ],
   "source": [
    "# Matriz de observabilidade\n",
    "N = C.transpose()\n",
    "for i in range(1, n):\n",
    "    N = N.row_join(((A_num.transpose())**i)*C_num.transpose())\n",
    "\n",
    "N"
   ]
  },
  {
   "cell_type": "code",
   "execution_count": 647,
   "metadata": {},
   "outputs": [
    {
     "name": "stdout",
     "output_type": "stream",
     "text": [
      "O sistema é observável? True\n"
     ]
    }
   ],
   "source": [
    "print(\"O sistema é observável?\", N.rank()==n)"
   ]
  },
  {
   "cell_type": "markdown",
   "metadata": {},
   "source": [
    "## Regulador linear-quadrático (LQR)"
   ]
  },
  {
   "cell_type": "code",
   "execution_count": 672,
   "metadata": {},
   "outputs": [],
   "source": [
    "# Matriz de ponderação Q - penaliza desvios dos estados\n",
    "Q = np.diag([100, 100, 100, 1, 1, 1])  # Posições angulares com maior peso - ALTERÁVE;\n",
    "\n",
    "# Matriz de ponderação R - penaliza esforço de controle\n",
    "R = np.diag([1, 1])  # Penalização moderada - ALTERÁVEL\n",
    "\n",
    "# Síntese do regulador LQR\n",
    "K_LQR, P_LQR, poles_LQR_MF = ct.lqr(np.array(A_num).astype(np.float64), np.array(B_num).astype(np.float64), Q, R)\n",
    "\n",
    "# Sistema em malha fechada\n",
    "A_LQR_cl = np.array(A_num).astype(np.float64) - np.array(B_num).astype(np.float64) @ K\n",
    "heli_LQR_MF = ct.ss(A_LQR_cl, E_num,-K_LQR, sp.zeros(K_LQR.shape[0],E_num.shape[1]))"
   ]
  },
  {
   "cell_type": "code",
   "execution_count": 673,
   "metadata": {},
   "outputs": [
    {
     "data": {
      "text/latex": [
       "$Q = \\left[\\begin{matrix}100 & 0 & 0 & 0 & 0 & 0\\\\0 & 100 & 0 & 0 & 0 & 0\\\\0 & 0 & 100 & 0 & 0 & 0\\\\0 & 0 & 0 & 1 & 0 & 0\\\\0 & 0 & 0 & 0 & 1 & 0\\\\0 & 0 & 0 & 0 & 0 & 1\\end{matrix}\\right]$"
      ],
      "text/plain": [
       "<IPython.core.display.Latex object>"
      ]
     },
     "metadata": {},
     "output_type": "display_data"
    },
    {
     "data": {
      "text/latex": [
       "$R = \\left[\\begin{matrix}1 & 0\\\\0 & 1\\end{matrix}\\right]$"
      ],
      "text/plain": [
       "<IPython.core.display.Latex object>"
      ]
     },
     "metadata": {},
     "output_type": "display_data"
    },
    {
     "data": {
      "text/latex": [
       "$K = \\left[\\begin{matrix}7.02693370182333 & -12.2251274618064 & -7.12188673507535 & 3.44459084982996 & -2.14235787610515 & -6.89489324799463\\\\7.08835853724512 & 12.3039342131635 & 7.06038355047776 & 3.47051151746268 & 2.14768763540949 & 6.83179712623009\\end{matrix}\\right]$"
      ],
      "text/plain": [
       "<IPython.core.display.Latex object>"
      ]
     },
     "metadata": {},
     "output_type": "display_data"
    }
   ],
   "source": [
    "display(Latex(f'$Q = {sp.latex(sp.Matrix(Q))}$'))\n",
    "display(Latex(f'$R = {sp.latex(sp.Matrix(R))}$'))\n",
    "display(Latex(f'$K = {sp.latex(sp.Matrix(K))}$'))"
   ]
  },
  {
   "cell_type": "code",
   "execution_count": 674,
   "metadata": {},
   "outputs": [
    {
     "data": {
      "text/html": [
       "<div>\n",
       "<style scoped>\n",
       "    .dataframe tbody tr th:only-of-type {\n",
       "        vertical-align: middle;\n",
       "    }\n",
       "\n",
       "    .dataframe tbody tr th {\n",
       "        vertical-align: top;\n",
       "    }\n",
       "\n",
       "    .dataframe thead th {\n",
       "        text-align: right;\n",
       "    }\n",
       "</style>\n",
       "<table border=\"1\" class=\"dataframe\">\n",
       "  <thead>\n",
       "    <tr style=\"text-align: right;\">\n",
       "      <th></th>\n",
       "      <th>Polos MA</th>\n",
       "      <th>Polos MF</th>\n",
       "    </tr>\n",
       "  </thead>\n",
       "  <tbody>\n",
       "    <tr>\n",
       "      <th>0</th>\n",
       "      <td>-0.002025+0.128201j</td>\n",
       "      <td>-5.053325+4.073372j</td>\n",
       "    </tr>\n",
       "    <tr>\n",
       "      <th>1</th>\n",
       "      <td>-0.002025-0.128201j</td>\n",
       "      <td>-5.053325-4.073372j</td>\n",
       "    </tr>\n",
       "    <tr>\n",
       "      <th>2</th>\n",
       "      <td>-0.081771+0.000000j</td>\n",
       "      <td>-2.128221+2.041485j</td>\n",
       "    </tr>\n",
       "    <tr>\n",
       "      <th>3</th>\n",
       "      <td>0.074381+0.000000j</td>\n",
       "      <td>-2.128221-2.041485j</td>\n",
       "    </tr>\n",
       "    <tr>\n",
       "      <th>4</th>\n",
       "      <td>0.000000+0.000000j</td>\n",
       "      <td>-1.364988+1.362924j</td>\n",
       "    </tr>\n",
       "    <tr>\n",
       "      <th>5</th>\n",
       "      <td>0.000000+0.000000j</td>\n",
       "      <td>-1.364988-1.362924j</td>\n",
       "    </tr>\n",
       "  </tbody>\n",
       "</table>\n",
       "</div>"
      ],
      "text/plain": [
       "             Polos MA            Polos MF\n",
       "0 -0.002025+0.128201j -5.053325+4.073372j\n",
       "1 -0.002025-0.128201j -5.053325-4.073372j\n",
       "2 -0.081771+0.000000j -2.128221+2.041485j\n",
       "3  0.074381+0.000000j -2.128221-2.041485j\n",
       "4  0.000000+0.000000j -1.364988+1.362924j\n",
       "5  0.000000+0.000000j -1.364988-1.362924j"
      ]
     },
     "metadata": {},
     "output_type": "display_data"
    },
    {
     "data": {
      "text/html": [
       "<div>\n",
       "<style scoped>\n",
       "    .dataframe tbody tr th:only-of-type {\n",
       "        vertical-align: middle;\n",
       "    }\n",
       "\n",
       "    .dataframe tbody tr th {\n",
       "        vertical-align: top;\n",
       "    }\n",
       "\n",
       "    .dataframe thead th {\n",
       "        text-align: right;\n",
       "    }\n",
       "</style>\n",
       "<table border=\"1\" class=\"dataframe\">\n",
       "  <thead>\n",
       "    <tr style=\"text-align: right;\">\n",
       "      <th></th>\n",
       "      <th>Zeros MA</th>\n",
       "      <th>Zeros MF</th>\n",
       "    </tr>\n",
       "  </thead>\n",
       "  <tbody>\n",
       "    <tr>\n",
       "      <th>0</th>\n",
       "      <td>-1.384646e+15+0.000000e+                    00j</td>\n",
       "      <td>NaN</td>\n",
       "    </tr>\n",
       "    <tr>\n",
       "      <th>1</th>\n",
       "      <td>-4.810975e+11+0.000000e+                    00j</td>\n",
       "      <td>NaN</td>\n",
       "    </tr>\n",
       "    <tr>\n",
       "      <th>2</th>\n",
       "      <td>-1.359504e+05+0.000000e+                    00j</td>\n",
       "      <td>NaN</td>\n",
       "    </tr>\n",
       "    <tr>\n",
       "      <th>3</th>\n",
       "      <td>1.359504e+05+0.000000e+                    00j</td>\n",
       "      <td>NaN</td>\n",
       "    </tr>\n",
       "    <tr>\n",
       "      <th>4</th>\n",
       "      <td>3.672097e+11+0.000000e+                    00j</td>\n",
       "      <td>NaN</td>\n",
       "    </tr>\n",
       "    <tr>\n",
       "      <th>5</th>\n",
       "      <td>NaN+0.000000e+                    00j</td>\n",
       "      <td>NaN</td>\n",
       "    </tr>\n",
       "  </tbody>\n",
       "</table>\n",
       "</div>"
      ],
      "text/plain": [
       "                                         Zeros MA  Zeros MF\n",
       "0 -1.384646e+15+0.000000e+                    00j       NaN\n",
       "1 -4.810975e+11+0.000000e+                    00j       NaN\n",
       "2 -1.359504e+05+0.000000e+                    00j       NaN\n",
       "3  1.359504e+05+0.000000e+                    00j       NaN\n",
       "4  3.672097e+11+0.000000e+                    00j       NaN\n",
       "5           NaN+0.000000e+                    00j       NaN"
      ]
     },
     "metadata": {},
     "output_type": "display_data"
    }
   ],
   "source": [
    "poles_LQR_MF = ct.poles(heli_LQR_MF)\n",
    "zeros_LQR_MF = ct.zeros(heli_LQR_MF)\n",
    "\n",
    "# Garantir mesmo tamanho com preenchimento de NaN\n",
    "max_poles = max(len(poles_MA), len(poles_LQR_MF))\n",
    "max_zeros = max(len(poles_MA), len(zeros_LQR_MF))\n",
    "\n",
    "# Criar DataFrame\n",
    "df_poles = pd.DataFrame({\n",
    "    'Polos MA': np.pad(poles_MA, (0, max_poles - len(poles_MA)), constant_values=np.nan),\n",
    "    'Polos MF': np.pad(poles_LQR_MF, (0, max_poles - len(poles_LQR_MF)), constant_values=np.nan)\n",
    "})\n",
    "\n",
    "df_zeros = pd.DataFrame({\n",
    "    'Zeros MA': np.pad(zeros_MA, (0, max_zeros - len(zeros_MA)), constant_values=np.nan),\n",
    "    'Zeros MF': np.pad(zeros_LQR_MF, (0, max_zeros - len(zeros_LQR_MF)), constant_values=np.nan)\n",
    "})\n",
    "\n",
    "# Exibir tabelas\n",
    "display(df_poles)\n",
    "display(df_zeros)"
   ]
  },
  {
   "cell_type": "code",
   "execution_count": 675,
   "metadata": {},
   "outputs": [
    {
     "data": {
      "image/png": "[encoded data removed]",
      "text/plain": [
       "<Figure size 576x432 with 1 Axes>"
      ]
     },
     "metadata": {
      "needs_background": "light"
     },
     "output_type": "display_data"
    },
    {
     "data": {
      "image/png": "[encoded data removed]",
      "text/plain": [
       "<Figure size 576x432 with 1 Axes>"
      ]
     },
     "metadata": {
      "needs_background": "light"
     },
     "output_type": "display_data"
    }
   ],
   "source": [
    "fig, ax = plt.subplots(figsize=(8,6))\n",
    "\n",
    "# Polos: como 'x'\n",
    "ax.scatter(poles_MA.real, poles_MA.imag, marker='x', color='red', label='Polos MA')\n",
    "\n",
    "# Zeros: como 'o'\n",
    "ax.scatter(zeros_MA.real, zeros_MA.imag, marker='o', facecolors='none', edgecolors='blue', label='Zeros MA')\n",
    "\n",
    "ax.set_xlabel('Parte Real')\n",
    "ax.set_ylabel('Parte Imaginária')\n",
    "ax.set_title('Mapa de Polos e Zeros - Malha Aberta')\n",
    "ax.grid(False)\n",
    "ax.axhline(0, color='lightgrey', linestyle='-', linewidth=1.5)\n",
    "ax.axvline(0, color='lightgrey', linestyle='-', linewidth=1.5)\n",
    "ax.legend()\n",
    "plt.show()\n",
    "\n",
    "fig, ax = plt.subplots(figsize=(8,6))\n",
    "\n",
    "# Polos: como 'x'\n",
    "ax.scatter(poles_LQR_MF.real, poles_LQR_MF.imag, marker='x', color='red', label='Polos MA')\n",
    "\n",
    "# Zeros: como 'o'\n",
    "ax.scatter(zeros_LQR_MF.real, zeros_LQR_MF.imag, marker='o', facecolors='none', edgecolors='blue', label='Zeros MA')\n",
    "\n",
    "ax.set_xlabel('Parte Real')\n",
    "ax.set_ylabel('Parte Imaginária')\n",
    "ax.set_title('Mapa de Polos e Zeros - Malha Aberta')\n",
    "ax.grid(False)\n",
    "ax.axhline(0, color='lightgrey', linestyle='-', linewidth=1.5)\n",
    "ax.axvline(0, color='lightgrey', linestyle='-', linewidth=1.5)\n",
    "ax.legend()\n",
    "plt.show()"
   ]
  },
  {
   "cell_type": "markdown",
   "metadata": {},
   "source": [
    "### Simulação de resposta livre do sistema controlado"
   ]
  },
  {
   "cell_type": "code",
   "execution_count": 676,
   "metadata": {},
   "outputs": [
    {
     "name": "stdout",
     "output_type": "stream",
     "text": [
      "Índice de desempenho quadrático J: 1.598414\n"
     ]
    },
    {
     "data": {
      "image/png": "[encoded data removed]",
      "text/plain": [
       "<Figure size 864x360 with 1 Axes>"
      ]
     },
     "metadata": {
      "needs_background": "light"
     },
     "output_type": "display_data"
    },
    {
     "data": {
      "image/png": "[encoded data removed]",
      "text/plain": [
       "<Figure size 720x288 with 1 Axes>"
      ]
     },
     "metadata": {
      "needs_background": "light"
     },
     "output_type": "display_data"
    }
   ],
   "source": [
    "ts = np.linspace(0, 50, 1001)\n",
    "w = np.zeros((E_num.shape[1], len(ts)))\n",
    "x0 = [0.2*np.pi/180, np.pi/180, 7*np.pi/180, 0, 0, 0] ## ALTERÁVEL\n",
    "t_livre, y_livre, x_livre = ct.forced_response(heli_LQR_MF, T=ts, X0=x0, return_x=True)\n",
    "\n",
    "J = x0 @ P_LQR @ x0\n",
    "print(f\"Índice de desempenho quadrático J: {J:.6f}\")\n",
    "\n",
    "plt.figure(figsize=(12, 5))\n",
    "for i in range(x.shape[0]):\n",
    "    plt.plot(t_livre, x_livre[i, :], label=f\"$x_{i+1}(t)$\")\n",
    "plt.title(f\"Resposta Livre - Estados\")\n",
    "plt.xlabel(\"Tempo [s]\")\n",
    "plt.grid(True)\n",
    "plt.legend()\n",
    "plt.tight_layout()\n",
    "plt.show()\n",
    "\n",
    "plt.figure(figsize=(10, 4))\n",
    "for i in range(y_livre.shape[0]):\n",
    "    plt.plot(t_livre, y_livre[i, :], label=f\"$u_{i+1}(t)$\")\n",
    "plt.title(f\"Resposta Livre - Entradas de controle\")\n",
    "plt.xlabel(\"Tempo [s]\")\n",
    "plt.grid(True)\n",
    "plt.legend()\n",
    "plt.tight_layout()\n",
    "plt.show()"
   ]
  },
  {
   "cell_type": "markdown",
   "metadata": {},
   "source": [
    "### Simulação de resposta a perturbação de impulso em sistema controlado"
   ]
  },
  {
   "cell_type": "code",
   "execution_count": 677,
   "metadata": {},
   "outputs": [
    {
     "name": "stdout",
     "output_type": "stream",
     "text": [
      "Índice de desempenho quadrático J (via integração): 3.777803\n"
     ]
    },
    {
     "data": {
      "image/png": "[encoded data removed]",
      "text/plain": [
       "<Figure size 864x360 with 1 Axes>"
      ]
     },
     "metadata": {
      "needs_background": "light"
     },
     "output_type": "display_data"
    },
    {
     "data": {
      "image/png": "[encoded data removed]",
      "text/plain": [
       "<Figure size 720x288 with 1 Axes>"
      ]
     },
     "metadata": {
      "needs_background": "light"
     },
     "output_type": "display_data"
    }
   ],
   "source": [
    "ts = np.linspace(0, 10, 1001)\n",
    "x0 = np.zeros(6)\n",
    "\n",
    "w_impulse = np.zeros((E_num.shape[1], len(ts)))\n",
    "w_impulse[0, 0] = 1 / (ts[1] - ts[0])  # impulso aproximado como valor alto no primeiro passo\n",
    "\n",
    "# Simulação com perturbação\n",
    "t_imp, y_imp, x_imp = ct.forced_response(heli_LQR_MF, T=ts, U=w_impulse, X0=x0, return_x=True)\n",
    "\n",
    "J_integral = 0\n",
    "for i in range(len(t)):\n",
    "    xi = x_imp[:, i]\n",
    "    yi = y_imp[:, i]\n",
    "    #print(type(xi), type(ui), type(Q), type(R))\n",
    "    J_integral += (xi.T @ Q @ xi + yi.T @ R @ yi) * (t_imp[1] - t_imp[0])\n",
    "\n",
    "print(f\"Índice de desempenho quadrático J (via integração): {J_integral:.6f}\")\n",
    "\n",
    "# Plot dos estados\n",
    "plt.figure(figsize=(12, 5))\n",
    "for i in range(x_imp.shape[0]):\n",
    "    plt.plot(t_imp, x_imp[i, :], label=f\"$x_{i+1}(t)$\")\n",
    "plt.title(\"Resposta a uma perturbação tipo impulso - Estados\")\n",
    "plt.xlabel(\"Tempo [s]\")\n",
    "plt.grid(True)\n",
    "plt.legend()\n",
    "plt.tight_layout()\n",
    "plt.show()\n",
    "\n",
    "# Plot das entradas de controle\n",
    "plt.figure(figsize=(10, 4))\n",
    "for i in range(y_imp.shape[0]):\n",
    "    plt.plot(t_imp, y_imp[i, :], label=f\"$u_{i+1}(t)$\")\n",
    "plt.title(\"Resposta a uma perturbação tipo impulso - Entradas de controle\")\n",
    "plt.xlabel(\"Tempo [s]\")\n",
    "plt.grid(True)\n",
    "plt.legend()\n",
    "plt.tight_layout()\n",
    "plt.show()"
   ]
  }
 ],
 "metadata": {
  "kernelspec": {
   "display_name": "Python 3",
   "language": "python",
   "name": "python3"
  },
  "language_info": {
   "codemirror_mode": {
    "name": "ipython",
    "version": 3
   },
   "file_extension": ".py",
   "mimetype": "text/x-python",
   "name": "python",
   "nbconvert_exporter": "python",
   "pygments_lexer": "ipython3",
   "version": "3.10.5"
  }
 },
 "nbformat": 4,
 "nbformat_minor": 2
}
